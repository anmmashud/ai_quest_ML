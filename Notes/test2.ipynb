{
 "cells": [
  {
   "cell_type": "markdown",
   "id": "099af3c2",
   "metadata": {},
   "source": [
    "# Python - Part 02"
   ]
  },
  {
   "cell_type": "markdown",
   "id": "8b8f2b2e",
   "metadata": {},
   "source": [
    "# Break and Continue Statements in Python\n",
    "\n",
    "## Break Statement\n",
    "\n",
    "The `break` statement is used to exit a loop prematurely when a certain condition is met.\n",
    "\n",
    "### Example of Break Statement\n",
    "```python\n",
    "for i in range(10):\n",
    "    if i == 5:\n",
    "        break\n",
    "    print(i)\n"
   ]
  },
  {
   "cell_type": "code",
   "execution_count": 1,
   "id": "fc8c7ef6",
   "metadata": {},
   "outputs": [
    {
     "name": "stdout",
     "output_type": "stream",
     "text": [
      "1\n",
      "2\n",
      "3\n",
      "4\n"
     ]
    }
   ],
   "source": [
    "for i in range(1, 10): # n = n-1\n",
    "    if i == 5:\n",
    "        break\n",
    "    print(i)"
   ]
  },
  {
   "cell_type": "code",
   "execution_count": 2,
   "id": "3b67e399",
   "metadata": {},
   "outputs": [
    {
     "data": {
      "text/plain": [
       "str"
      ]
     },
     "execution_count": 2,
     "metadata": {},
     "output_type": "execute_result"
    }
   ],
   "source": [
    "data = 'data science'\n",
    "type(data)"
   ]
  },
  {
   "cell_type": "code",
   "execution_count": 3,
   "id": "3622fe40",
   "metadata": {},
   "outputs": [
    {
     "name": "stdout",
     "output_type": "stream",
     "text": [
      "d\n",
      "a\n",
      "t\n",
      "a\n",
      " \n",
      "s\n",
      "c\n",
      "i\n"
     ]
    }
   ],
   "source": [
    "for i in data:\n",
    "    if i=='e':\n",
    "        break\n",
    "    print(i)"
   ]
  },
  {
   "cell_type": "code",
   "execution_count": null,
   "id": "f26d1ead",
   "metadata": {},
   "outputs": [],
   "source": []
  },
  {
   "cell_type": "markdown",
   "id": "c7d99c31",
   "metadata": {},
   "source": [
    "# Continue Statement in Python\n",
    "\n",
    "The `continue` statement in Python is used to skip the current iteration of a loop and proceed to the next iteration. This can be useful when you want to skip certain values or conditions within a loop without terminating the entire loop.\n",
    "\n",
    "## Syntax\n",
    "\n",
    "The syntax of the `continue` statement is simple:\n",
    "\n",
    "```python\n",
    "continue\n",
    "\n",
    "#### Example:-\n",
    "for i in range(10):\n",
    "    if i % 2 == 0:\n",
    "        continue\n",
    "    print(i)\n"
   ]
  },
  {
   "cell_type": "code",
   "execution_count": 4,
   "id": "482cb942",
   "metadata": {},
   "outputs": [
    {
     "data": {
      "text/plain": [
       "'data science'"
      ]
     },
     "execution_count": 4,
     "metadata": {},
     "output_type": "execute_result"
    }
   ],
   "source": [
    "data"
   ]
  },
  {
   "cell_type": "code",
   "execution_count": 5,
   "id": "1c21d0df",
   "metadata": {},
   "outputs": [
    {
     "name": "stdout",
     "output_type": "stream",
     "text": [
      "d\n",
      "a\n",
      "t\n",
      "a\n",
      " \n",
      "s\n",
      "c\n",
      "i\n",
      "n\n",
      "c\n"
     ]
    }
   ],
   "source": [
    "for i in data:\n",
    "    if i=='e':\n",
    "        continue #ignore/skip\n",
    "    print(i)"
   ]
  },
  {
   "cell_type": "code",
   "execution_count": 6,
   "id": "8c267216",
   "metadata": {},
   "outputs": [
    {
     "name": "stdout",
     "output_type": "stream",
     "text": [
      "1\n",
      "3\n",
      "5\n",
      "7\n",
      "9\n"
     ]
    }
   ],
   "source": [
    "for i in range(10):\n",
    "    if i % 2 == 0:\n",
    "        continue\n",
    "    print(i)"
   ]
  },
  {
   "cell_type": "code",
   "execution_count": null,
   "id": "1b5dc9a2",
   "metadata": {},
   "outputs": [],
   "source": []
  },
  {
   "cell_type": "markdown",
   "id": "6f91ce42",
   "metadata": {},
   "source": [
    "# Data Structures in Python\n",
    "\n",
    "Python provides several `built-in` data structures to store and manage data efficiently. These data structures include lists, tuples, dictionaries, sets, and more. Each data structure has unique properties and methods, making them suitable for different types of applications.\n"
   ]
  },
  {
   "cell_type": "markdown",
   "id": "8e17df05",
   "metadata": {},
   "source": [
    "### Type of Data Structures in Python\n",
    "\n",
    "- String\n",
    "- List\n",
    "- Tuple\n",
    "- Set\n",
    "- Dictionary"
   ]
  },
  {
   "cell_type": "markdown",
   "id": "8d4f34e4",
   "metadata": {},
   "source": [
    "# 1. Lists in Python\n",
    "\n",
    "A list is an ordered, mutable collection of elements. Lists can contain elements of different types.\n",
    "\n",
    "### Example:\n",
    "```python\n",
    "dept = [\"ai\", \"ds\", \"da\", \"nlp\"]\n",
    "print(dept)\n"
   ]
  },
  {
   "cell_type": "code",
   "execution_count": 7,
   "id": "bbc677e3",
   "metadata": {},
   "outputs": [],
   "source": [
    "data = [1,2,3,4,5,True,False,'Shakil','ABC',1,2,3,[1,2,3,4],(1,2,3),10]"
   ]
  },
  {
   "cell_type": "code",
   "execution_count": 8,
   "id": "1e063c5f",
   "metadata": {},
   "outputs": [
    {
     "data": {
      "text/plain": [
       "[1,\n",
       " 2,\n",
       " 3,\n",
       " 4,\n",
       " 5,\n",
       " True,\n",
       " False,\n",
       " 'Shakil',\n",
       " 'ABC',\n",
       " 1,\n",
       " 2,\n",
       " 3,\n",
       " [1, 2, 3, 4],\n",
       " (1, 2, 3),\n",
       " 10]"
      ]
     },
     "execution_count": 8,
     "metadata": {},
     "output_type": "execute_result"
    }
   ],
   "source": [
    "data"
   ]
  },
  {
   "cell_type": "code",
   "execution_count": 9,
   "id": "909f9f93",
   "metadata": {
    "scrolled": true
   },
   "outputs": [
    {
     "data": {
      "text/plain": [
       "list"
      ]
     },
     "execution_count": 9,
     "metadata": {},
     "output_type": "execute_result"
    }
   ],
   "source": [
    "type(data)"
   ]
  },
  {
   "cell_type": "code",
   "execution_count": 10,
   "id": "2c3e2594",
   "metadata": {},
   "outputs": [
    {
     "data": {
      "text/plain": [
       "2"
      ]
     },
     "execution_count": 10,
     "metadata": {},
     "output_type": "execute_result"
    }
   ],
   "source": [
    "data[10]"
   ]
  },
  {
   "cell_type": "code",
   "execution_count": 11,
   "id": "c12f0b57",
   "metadata": {},
   "outputs": [
    {
     "data": {
      "text/plain": [
       "3"
      ]
     },
     "execution_count": 11,
     "metadata": {},
     "output_type": "execute_result"
    }
   ],
   "source": [
    "data[2]"
   ]
  },
  {
   "cell_type": "code",
   "execution_count": 12,
   "id": "173406d9",
   "metadata": {},
   "outputs": [
    {
     "data": {
      "text/plain": [
       "2"
      ]
     },
     "execution_count": 12,
     "metadata": {},
     "output_type": "execute_result"
    }
   ],
   "source": [
    "data.index(3) # index er vetore jeta ase seta holo data"
   ]
  },
  {
   "cell_type": "code",
   "execution_count": 13,
   "id": "d7df46c9",
   "metadata": {},
   "outputs": [
    {
     "data": {
      "text/plain": [
       "10"
      ]
     },
     "execution_count": 13,
     "metadata": {},
     "output_type": "execute_result"
    }
   ],
   "source": [
    "data[-1]"
   ]
  },
  {
   "cell_type": "code",
   "execution_count": 14,
   "id": "2c03339a",
   "metadata": {},
   "outputs": [
    {
     "data": {
      "text/plain": [
       "(1, 2, 3)"
      ]
     },
     "execution_count": 14,
     "metadata": {},
     "output_type": "execute_result"
    }
   ],
   "source": [
    "data[-2]"
   ]
  },
  {
   "cell_type": "code",
   "execution_count": 15,
   "id": "1b1a75a0",
   "metadata": {},
   "outputs": [
    {
     "name": "stdout",
     "output_type": "stream",
     "text": [
      "<class 'int'>\n",
      "<class 'int'>\n",
      "<class 'int'>\n",
      "<class 'int'>\n",
      "<class 'int'>\n",
      "<class 'bool'>\n",
      "<class 'bool'>\n",
      "<class 'str'>\n",
      "<class 'str'>\n",
      "<class 'int'>\n",
      "<class 'int'>\n",
      "<class 'int'>\n",
      "<class 'list'>\n",
      "<class 'tuple'>\n",
      "<class 'int'>\n"
     ]
    }
   ],
   "source": [
    "for i in data:\n",
    "    print(type(i))"
   ]
  },
  {
   "cell_type": "code",
   "execution_count": 16,
   "id": "98210c7e",
   "metadata": {},
   "outputs": [
    {
     "data": {
      "text/plain": [
       "int"
      ]
     },
     "execution_count": 16,
     "metadata": {},
     "output_type": "execute_result"
    }
   ],
   "source": [
    "type(data[3])"
   ]
  },
  {
   "cell_type": "code",
   "execution_count": 17,
   "id": "1abae50c",
   "metadata": {},
   "outputs": [
    {
     "data": {
      "text/plain": [
       "[1,\n",
       " 2,\n",
       " 3,\n",
       " 4,\n",
       " 5,\n",
       " True,\n",
       " False,\n",
       " 'Shakil',\n",
       " 'ABC',\n",
       " 1,\n",
       " 2,\n",
       " 3,\n",
       " [1, 2, 3, 4],\n",
       " (1, 2, 3),\n",
       " 10]"
      ]
     },
     "execution_count": 17,
     "metadata": {},
     "output_type": "execute_result"
    }
   ],
   "source": [
    "data"
   ]
  },
  {
   "cell_type": "code",
   "execution_count": 19,
   "id": "c83fc9bc",
   "metadata": {},
   "outputs": [
    {
     "data": {
      "text/plain": [
       "3"
      ]
     },
     "execution_count": 19,
     "metadata": {},
     "output_type": "execute_result"
    }
   ],
   "source": [
    "data[-3][-2]"
   ]
  },
  {
   "cell_type": "code",
   "execution_count": 20,
   "id": "93228586",
   "metadata": {},
   "outputs": [
    {
     "data": {
      "text/plain": [
       "176"
      ]
     },
     "execution_count": 20,
     "metadata": {},
     "output_type": "execute_result"
    }
   ],
   "source": [
    "import sys\n",
    "sys.getsizeof(data)"
   ]
  },
  {
   "cell_type": "code",
   "execution_count": 21,
   "id": "067c7b5e",
   "metadata": {},
   "outputs": [
    {
     "data": {
      "text/plain": [
       "160"
      ]
     },
     "execution_count": 21,
     "metadata": {},
     "output_type": "execute_result"
    }
   ],
   "source": [
    "data2 = (1,2,3,4,5,True,False,'Shakil','ABC',1,2,3,[1,2,3,4],(1,2,3),10)\n",
    "sys.getsizeof(data2) #tuple"
   ]
  },
  {
   "cell_type": "code",
   "execution_count": null,
   "id": "5951415a",
   "metadata": {},
   "outputs": [],
   "source": []
  },
  {
   "cell_type": "markdown",
   "id": "2cacbd90",
   "metadata": {},
   "source": [
    "# Common List Methods in Python\n",
    "\n",
    "In Python, lists are versatile and come with a variety of built-in methods to manipulate and manage the elements they contain. Below are some common list methods illustrated with the example list `dept = [\"ai\", \"ds\", \"da\", \"nlp\"]`.\n",
    "\n",
    "```python <br>\n",
    "dept = [\"ai\", \"ds\", \"da\", \"nlp\"] <br>\n",
    "print(dept)"
   ]
  },
  {
   "cell_type": "markdown",
   "id": "05ba7381",
   "metadata": {},
   "source": [
    "### Common List Methods:\n",
    "\n",
    "- `append()`\n",
    "- `insert()`\n",
    "- `remove()`\n",
    "- `pop()`\n",
    "- `clear()`\n",
    "- `index()`\n",
    "- `count()`\n",
    "- `sort()`\n",
    "- `reverse()`\n",
    "- `copy()`\n"
   ]
  },
  {
   "cell_type": "markdown",
   "id": "53db1aea",
   "metadata": {},
   "source": [
    "dept = [\"ai\", \"ds\", \"da\", \"nlp\"] <br>\n",
    "print(dept) <br>\n",
    "Output: ['ai', 'ds', 'da', 'nlp']\n",
    "\n",
    "# Append\n",
    "dept.append(\"cv\") <br>\n",
    "print(dept) <br> \n",
    "Output: ['ai', 'ds', 'da', 'nlp', 'cv']\n",
    "\n",
    "# Insert\n",
    "dept.insert(1, \"ml\") <br>\n",
    "print(dept)  <br>\n",
    "Output: ['ai', 'ml', 'ds', 'da', 'nlp', 'cv']\n",
    "\n",
    "# Remove\n",
    "dept.remove(\"ds\") <br>\n",
    "print(dept)  <br>\n",
    "Output: ['ai', 'ml', 'da', 'nlp', 'cv']\n",
    "\n",
    "# Pop\n",
    "removed_element = dept.pop(2) <br>\n",
    "print(removed_element)  <br>\n",
    "Output: 'da' <br>\n",
    "print(dept)  <br>\n",
    "Output: ['ai', 'ml', 'nlp', 'cv']\n",
    "\n",
    "# Clear\n",
    "dept.clear() <br>\n",
    "print(dept)  <br>\n",
    "Output: []\n",
    "\n",
    "# Reinitialize\n",
    "dept = [\"ai\", \"ds\", \"da\", \"nlp\"]\n",
    "\n",
    "# Index\n",
    "index_ds = dept.index(\"ds\") <br>\n",
    "print(index_ds)  <br>\n",
    "Output: 1\n",
    "\n",
    "# Count\n",
    "count_ai = dept.count(\"ai\") <br>\n",
    "print(count_ai)  <br>\n",
    "Output: 1\n",
    "\n",
    "# Sort\n",
    "dept.sort() <br>\n",
    "print(dept)  <br>\n",
    "Output: ['ai', 'da', 'ds', 'nlp']\n",
    "\n",
    "# Reverse\n",
    "dept.reverse() <br>\n",
    "print(dept)  <br>\n",
    "Output: ['nlp', 'ds', 'da', 'ai']\n",
    "\n",
    "# Copy\n",
    "dept_copy = dept.copy() <br>\n",
    "print(dept_copy)  <br>\n",
    "Output: ['nlp', 'ds', 'da', 'ai']"
   ]
  },
  {
   "cell_type": "markdown",
   "id": "f752279d",
   "metadata": {},
   "source": [
    "# Let's practice list methods"
   ]
  },
  {
   "cell_type": "code",
   "execution_count": 22,
   "id": "7ba307e0",
   "metadata": {},
   "outputs": [],
   "source": [
    "data.append('shakil')"
   ]
  },
  {
   "cell_type": "code",
   "execution_count": 23,
   "id": "e7844013",
   "metadata": {},
   "outputs": [
    {
     "data": {
      "text/plain": [
       "[1,\n",
       " 2,\n",
       " 3,\n",
       " 4,\n",
       " 5,\n",
       " True,\n",
       " False,\n",
       " 'Shakil',\n",
       " 'ABC',\n",
       " 1,\n",
       " 2,\n",
       " 3,\n",
       " [1, 2, 3, 4],\n",
       " (1, 2, 3),\n",
       " 10,\n",
       " 'shakil']"
      ]
     },
     "execution_count": 23,
     "metadata": {},
     "output_type": "execute_result"
    }
   ],
   "source": [
    "data"
   ]
  },
  {
   "cell_type": "code",
   "execution_count": 25,
   "id": "4fb42852",
   "metadata": {},
   "outputs": [
    {
     "data": {
      "text/plain": [
       "2"
      ]
     },
     "execution_count": 25,
     "metadata": {},
     "output_type": "execute_result"
    }
   ],
   "source": [
    "data[10]"
   ]
  },
  {
   "cell_type": "code",
   "execution_count": 26,
   "id": "4318676c",
   "metadata": {},
   "outputs": [],
   "source": [
    "data[10] = 'dataaaa'"
   ]
  },
  {
   "cell_type": "code",
   "execution_count": 27,
   "id": "bcca9088",
   "metadata": {},
   "outputs": [
    {
     "data": {
      "text/plain": [
       "[1,\n",
       " 2,\n",
       " 3,\n",
       " 4,\n",
       " 5,\n",
       " True,\n",
       " False,\n",
       " 'Shakil',\n",
       " 'ABC',\n",
       " 1,\n",
       " 'dataaaa',\n",
       " 3,\n",
       " [1, 2, 3, 4],\n",
       " (1, 2, 3),\n",
       " 10,\n",
       " 'shakil']"
      ]
     },
     "execution_count": 27,
     "metadata": {},
     "output_type": "execute_result"
    }
   ],
   "source": [
    "data"
   ]
  },
  {
   "cell_type": "code",
   "execution_count": 28,
   "id": "6166849c",
   "metadata": {},
   "outputs": [],
   "source": [
    "data.insert(1, 500)"
   ]
  },
  {
   "cell_type": "code",
   "execution_count": 29,
   "id": "afcd667a",
   "metadata": {},
   "outputs": [
    {
     "data": {
      "text/plain": [
       "[1,\n",
       " 500,\n",
       " 2,\n",
       " 3,\n",
       " 4,\n",
       " 5,\n",
       " True,\n",
       " False,\n",
       " 'Shakil',\n",
       " 'ABC',\n",
       " 1,\n",
       " 'dataaaa',\n",
       " 3,\n",
       " [1, 2, 3, 4],\n",
       " (1, 2, 3),\n",
       " 10,\n",
       " 'shakil']"
      ]
     },
     "execution_count": 29,
     "metadata": {},
     "output_type": "execute_result"
    }
   ],
   "source": [
    "data"
   ]
  },
  {
   "cell_type": "code",
   "execution_count": 31,
   "id": "34f109f4",
   "metadata": {},
   "outputs": [],
   "source": [
    "data.insert(1,[10,20])"
   ]
  },
  {
   "cell_type": "code",
   "execution_count": 32,
   "id": "8f3bd3b4",
   "metadata": {},
   "outputs": [
    {
     "data": {
      "text/plain": [
       "[1,\n",
       " [10, 20],\n",
       " 500,\n",
       " 2,\n",
       " 3,\n",
       " 4,\n",
       " 5,\n",
       " True,\n",
       " False,\n",
       " 'Shakil',\n",
       " 'ABC',\n",
       " 1,\n",
       " 'dataaaa',\n",
       " 3,\n",
       " [1, 2, 3, 4],\n",
       " (1, 2, 3),\n",
       " 10,\n",
       " 'shakil']"
      ]
     },
     "execution_count": 32,
     "metadata": {},
     "output_type": "execute_result"
    }
   ],
   "source": [
    "data"
   ]
  },
  {
   "cell_type": "code",
   "execution_count": 33,
   "id": "1949523c",
   "metadata": {},
   "outputs": [],
   "source": [
    "data.reverse()"
   ]
  },
  {
   "cell_type": "code",
   "execution_count": 34,
   "id": "b140a1de",
   "metadata": {},
   "outputs": [
    {
     "data": {
      "text/plain": [
       "['shakil',\n",
       " 10,\n",
       " (1, 2, 3),\n",
       " [1, 2, 3, 4],\n",
       " 3,\n",
       " 'dataaaa',\n",
       " 1,\n",
       " 'ABC',\n",
       " 'Shakil',\n",
       " False,\n",
       " True,\n",
       " 5,\n",
       " 4,\n",
       " 3,\n",
       " 2,\n",
       " 500,\n",
       " [10, 20],\n",
       " 1]"
      ]
     },
     "execution_count": 34,
     "metadata": {},
     "output_type": "execute_result"
    }
   ],
   "source": [
    "data"
   ]
  },
  {
   "cell_type": "code",
   "execution_count": 35,
   "id": "16fae4bb",
   "metadata": {},
   "outputs": [
    {
     "data": {
      "text/plain": [
       "'shakil'"
      ]
     },
     "execution_count": 35,
     "metadata": {},
     "output_type": "execute_result"
    }
   ],
   "source": [
    "data[0]"
   ]
  },
  {
   "cell_type": "code",
   "execution_count": 36,
   "id": "3e299d38",
   "metadata": {},
   "outputs": [],
   "source": [
    "data3 = data"
   ]
  },
  {
   "cell_type": "code",
   "execution_count": 37,
   "id": "0e119083",
   "metadata": {},
   "outputs": [
    {
     "data": {
      "text/plain": [
       "['shakil',\n",
       " 10,\n",
       " (1, 2, 3),\n",
       " [1, 2, 3, 4],\n",
       " 3,\n",
       " 'dataaaa',\n",
       " 1,\n",
       " 'ABC',\n",
       " 'Shakil',\n",
       " False,\n",
       " True,\n",
       " 5,\n",
       " 4,\n",
       " 3,\n",
       " 2,\n",
       " 500,\n",
       " [10, 20],\n",
       " 1]"
      ]
     },
     "execution_count": 37,
     "metadata": {},
     "output_type": "execute_result"
    }
   ],
   "source": [
    "data3"
   ]
  },
  {
   "cell_type": "code",
   "execution_count": 38,
   "id": "1d893d8b",
   "metadata": {},
   "outputs": [
    {
     "data": {
      "text/plain": [
       "['shakil',\n",
       " 10,\n",
       " (1, 2, 3),\n",
       " [1, 2, 3, 4],\n",
       " 3,\n",
       " 'dataaaa',\n",
       " 1,\n",
       " 'ABC',\n",
       " 'Shakil',\n",
       " False,\n",
       " True,\n",
       " 5,\n",
       " 4,\n",
       " 3,\n",
       " 2,\n",
       " 500,\n",
       " [10, 20],\n",
       " 1]"
      ]
     },
     "execution_count": 38,
     "metadata": {},
     "output_type": "execute_result"
    }
   ],
   "source": [
    "data"
   ]
  },
  {
   "cell_type": "code",
   "execution_count": 39,
   "id": "fbd03ac8",
   "metadata": {},
   "outputs": [],
   "source": [
    "data3[0] = 'aiquest'"
   ]
  },
  {
   "cell_type": "code",
   "execution_count": 40,
   "id": "dd00897b",
   "metadata": {},
   "outputs": [
    {
     "data": {
      "text/plain": [
       "['aiquest',\n",
       " 10,\n",
       " (1, 2, 3),\n",
       " [1, 2, 3, 4],\n",
       " 3,\n",
       " 'dataaaa',\n",
       " 1,\n",
       " 'ABC',\n",
       " 'Shakil',\n",
       " False,\n",
       " True,\n",
       " 5,\n",
       " 4,\n",
       " 3,\n",
       " 2,\n",
       " 500,\n",
       " [10, 20],\n",
       " 1]"
      ]
     },
     "execution_count": 40,
     "metadata": {},
     "output_type": "execute_result"
    }
   ],
   "source": [
    "data3"
   ]
  },
  {
   "cell_type": "code",
   "execution_count": 41,
   "id": "f1810f9e",
   "metadata": {},
   "outputs": [
    {
     "data": {
      "text/plain": [
       "['aiquest',\n",
       " 10,\n",
       " (1, 2, 3),\n",
       " [1, 2, 3, 4],\n",
       " 3,\n",
       " 'dataaaa',\n",
       " 1,\n",
       " 'ABC',\n",
       " 'Shakil',\n",
       " False,\n",
       " True,\n",
       " 5,\n",
       " 4,\n",
       " 3,\n",
       " 2,\n",
       " 500,\n",
       " [10, 20],\n",
       " 1]"
      ]
     },
     "execution_count": 41,
     "metadata": {},
     "output_type": "execute_result"
    }
   ],
   "source": [
    "data"
   ]
  },
  {
   "cell_type": "code",
   "execution_count": 43,
   "id": "c61785e4",
   "metadata": {},
   "outputs": [],
   "source": [
    "data4 = data.copy()"
   ]
  },
  {
   "cell_type": "code",
   "execution_count": 44,
   "id": "93926ae6",
   "metadata": {},
   "outputs": [
    {
     "data": {
      "text/plain": [
       "['aiquest',\n",
       " 10,\n",
       " (1, 2, 3),\n",
       " [1, 2, 3, 4],\n",
       " 3,\n",
       " 'dataaaa',\n",
       " 1,\n",
       " 'ABC',\n",
       " 'Shakil',\n",
       " False,\n",
       " True,\n",
       " 5,\n",
       " 4,\n",
       " 3,\n",
       " 2,\n",
       " 500,\n",
       " [10, 20],\n",
       " 1]"
      ]
     },
     "execution_count": 44,
     "metadata": {},
     "output_type": "execute_result"
    }
   ],
   "source": [
    "data4"
   ]
  },
  {
   "cell_type": "code",
   "execution_count": 45,
   "id": "b233c0fd",
   "metadata": {},
   "outputs": [],
   "source": [
    "data4 = 'ai'"
   ]
  },
  {
   "cell_type": "code",
   "execution_count": 46,
   "id": "599e0511",
   "metadata": {},
   "outputs": [
    {
     "data": {
      "text/plain": [
       "'ai'"
      ]
     },
     "execution_count": 46,
     "metadata": {},
     "output_type": "execute_result"
    }
   ],
   "source": [
    "data4"
   ]
  },
  {
   "cell_type": "code",
   "execution_count": 47,
   "id": "a5dc411c",
   "metadata": {},
   "outputs": [
    {
     "data": {
      "text/plain": [
       "['aiquest',\n",
       " 10,\n",
       " (1, 2, 3),\n",
       " [1, 2, 3, 4],\n",
       " 3,\n",
       " 'dataaaa',\n",
       " 1,\n",
       " 'ABC',\n",
       " 'Shakil',\n",
       " False,\n",
       " True,\n",
       " 5,\n",
       " 4,\n",
       " 3,\n",
       " 2,\n",
       " 500,\n",
       " [10, 20],\n",
       " 1]"
      ]
     },
     "execution_count": 47,
     "metadata": {},
     "output_type": "execute_result"
    }
   ],
   "source": [
    "data"
   ]
  },
  {
   "cell_type": "code",
   "execution_count": 48,
   "id": "89e3fcc4",
   "metadata": {},
   "outputs": [
    {
     "data": {
      "text/plain": [
       "1"
      ]
     },
     "execution_count": 48,
     "metadata": {},
     "output_type": "execute_result"
    }
   ],
   "source": [
    "data.count(4)"
   ]
  },
  {
   "cell_type": "code",
   "execution_count": 49,
   "id": "3eb1e266",
   "metadata": {},
   "outputs": [],
   "source": [
    "data.remove(1)"
   ]
  },
  {
   "cell_type": "code",
   "execution_count": 50,
   "id": "921380dc",
   "metadata": {},
   "outputs": [
    {
     "data": {
      "text/plain": [
       "10"
      ]
     },
     "execution_count": 50,
     "metadata": {},
     "output_type": "execute_result"
    }
   ],
   "source": [
    "data.pop(1)"
   ]
  },
  {
   "cell_type": "code",
   "execution_count": 51,
   "id": "1ea5846d",
   "metadata": {},
   "outputs": [],
   "source": [
    "del data[0]"
   ]
  },
  {
   "cell_type": "code",
   "execution_count": 52,
   "id": "63d32e32",
   "metadata": {},
   "outputs": [
    {
     "data": {
      "text/plain": [
       "[(1, 2, 3),\n",
       " [1, 2, 3, 4],\n",
       " 3,\n",
       " 'dataaaa',\n",
       " 'ABC',\n",
       " 'Shakil',\n",
       " False,\n",
       " True,\n",
       " 5,\n",
       " 4,\n",
       " 3,\n",
       " 2,\n",
       " 500,\n",
       " [10, 20],\n",
       " 1]"
      ]
     },
     "execution_count": 52,
     "metadata": {},
     "output_type": "execute_result"
    }
   ],
   "source": [
    "data"
   ]
  },
  {
   "cell_type": "code",
   "execution_count": 53,
   "id": "ca43b03f",
   "metadata": {},
   "outputs": [],
   "source": [
    "del data[0]"
   ]
  },
  {
   "cell_type": "code",
   "execution_count": 54,
   "id": "97b85d50",
   "metadata": {},
   "outputs": [
    {
     "data": {
      "text/plain": [
       "[[1, 2, 3, 4],\n",
       " 3,\n",
       " 'dataaaa',\n",
       " 'ABC',\n",
       " 'Shakil',\n",
       " False,\n",
       " True,\n",
       " 5,\n",
       " 4,\n",
       " 3,\n",
       " 2,\n",
       " 500,\n",
       " [10, 20],\n",
       " 1]"
      ]
     },
     "execution_count": 54,
     "metadata": {},
     "output_type": "execute_result"
    }
   ],
   "source": [
    "data"
   ]
  },
  {
   "cell_type": "code",
   "execution_count": 55,
   "id": "5560d832",
   "metadata": {},
   "outputs": [],
   "source": [
    "del data[0]"
   ]
  },
  {
   "cell_type": "code",
   "execution_count": 56,
   "id": "f6de168d",
   "metadata": {},
   "outputs": [
    {
     "data": {
      "text/plain": [
       "[3, 'dataaaa', 'ABC', 'Shakil', False, True, 5, 4, 3, 2, 500, [10, 20], 1]"
      ]
     },
     "execution_count": 56,
     "metadata": {},
     "output_type": "execute_result"
    }
   ],
   "source": [
    "data"
   ]
  },
  {
   "cell_type": "code",
   "execution_count": 57,
   "id": "a8ca2aaa",
   "metadata": {
    "scrolled": true
   },
   "outputs": [
    {
     "data": {
      "text/plain": [
       "list"
      ]
     },
     "execution_count": 57,
     "metadata": {},
     "output_type": "execute_result"
    }
   ],
   "source": [
    "type(data)"
   ]
  },
  {
   "cell_type": "code",
   "execution_count": 58,
   "id": "86765115",
   "metadata": {},
   "outputs": [],
   "source": [
    "data2 = tuple(data)"
   ]
  },
  {
   "cell_type": "code",
   "execution_count": 59,
   "id": "a1915557",
   "metadata": {},
   "outputs": [
    {
     "data": {
      "text/plain": [
       "tuple"
      ]
     },
     "execution_count": 59,
     "metadata": {},
     "output_type": "execute_result"
    }
   ],
   "source": [
    "type(data2)"
   ]
  },
  {
   "cell_type": "code",
   "execution_count": 60,
   "id": "d202c42c",
   "metadata": {},
   "outputs": [],
   "source": [
    "tup = (1,2,3,4,5)"
   ]
  },
  {
   "cell_type": "code",
   "execution_count": 61,
   "id": "f8adca77",
   "metadata": {},
   "outputs": [
    {
     "data": {
      "text/plain": [
       "(1, 2, 3, 4, 5)"
      ]
     },
     "execution_count": 61,
     "metadata": {},
     "output_type": "execute_result"
    }
   ],
   "source": [
    "tup"
   ]
  },
  {
   "cell_type": "markdown",
   "id": "d0082f38",
   "metadata": {},
   "source": [
    "# 2. Tuples in Python\n",
    "\n",
    "A tuple is an ordered, immutable collection of elements in Python. Tuples can contain elements of different types and are often used to group related data. Once a tuple is created, its elements cannot be changed.\n",
    "\n",
    "## Creating Tuples\n",
    "\n",
    "Tuples can be created by placing a comma-separated sequence of elements inside parentheses.\n",
    "\n",
    "### Example:\n",
    "```python\n",
    "# Creating a tuple\n",
    "coordinates = (10.0, 20.0)\n",
    "print(coordinates)  # Output: (10.0, 20.0)\n",
    "\n",
    "# Creating a tuple without parentheses (not recommended but valid)\n",
    "coordinates = 10.0, 20.0\n",
    "print(coordinates)  # Output: (10.0, 20.0)\n"
   ]
  },
  {
   "cell_type": "code",
   "execution_count": 62,
   "id": "309b8cdd",
   "metadata": {},
   "outputs": [],
   "source": [
    "tup = (1,2,3,4,5,True,False,[1,2,3])"
   ]
  },
  {
   "cell_type": "code",
   "execution_count": 63,
   "id": "3e4edc79",
   "metadata": {},
   "outputs": [
    {
     "data": {
      "text/plain": [
       "(1, 2, 3, 4, 5, True, False, [1, 2, 3])"
      ]
     },
     "execution_count": 63,
     "metadata": {},
     "output_type": "execute_result"
    }
   ],
   "source": [
    "tup"
   ]
  },
  {
   "cell_type": "code",
   "execution_count": 65,
   "id": "f9787659",
   "metadata": {},
   "outputs": [
    {
     "data": {
      "text/plain": [
       "1"
      ]
     },
     "execution_count": 65,
     "metadata": {},
     "output_type": "execute_result"
    }
   ],
   "source": [
    "tup[0]"
   ]
  },
  {
   "cell_type": "code",
   "execution_count": 66,
   "id": "cb25630c",
   "metadata": {},
   "outputs": [
    {
     "ename": "TypeError",
     "evalue": "'tuple' object does not support item assignment",
     "output_type": "error",
     "traceback": [
      "\u001b[1;31m---------------------------------------------------------------------------\u001b[0m",
      "\u001b[1;31mTypeError\u001b[0m                                 Traceback (most recent call last)",
      "\u001b[1;32m~\\AppData\\Local\\Temp\\ipykernel_34604\\530235596.py\u001b[0m in \u001b[0;36m<module>\u001b[1;34m\u001b[0m\n\u001b[1;32m----> 1\u001b[1;33m \u001b[0mtup\u001b[0m\u001b[1;33m[\u001b[0m\u001b[1;36m0\u001b[0m\u001b[1;33m]\u001b[0m \u001b[1;33m=\u001b[0m \u001b[1;36m10\u001b[0m\u001b[1;33m\u001b[0m\u001b[1;33m\u001b[0m\u001b[0m\n\u001b[0m",
      "\u001b[1;31mTypeError\u001b[0m: 'tuple' object does not support item assignment"
     ]
    }
   ],
   "source": [
    "tup[0] = 10"
   ]
  },
  {
   "cell_type": "code",
   "execution_count": 67,
   "id": "8b0b6b6a",
   "metadata": {},
   "outputs": [
    {
     "ename": "AttributeError",
     "evalue": "'tuple' object has no attribute 'pop'",
     "output_type": "error",
     "traceback": [
      "\u001b[1;31m---------------------------------------------------------------------------\u001b[0m",
      "\u001b[1;31mAttributeError\u001b[0m                            Traceback (most recent call last)",
      "\u001b[1;32m~\\AppData\\Local\\Temp\\ipykernel_34604\\893887561.py\u001b[0m in \u001b[0;36m<module>\u001b[1;34m\u001b[0m\n\u001b[1;32m----> 1\u001b[1;33m \u001b[0mtup\u001b[0m\u001b[1;33m.\u001b[0m\u001b[0mpop\u001b[0m\u001b[1;33m(\u001b[0m\u001b[1;36m1\u001b[0m\u001b[1;33m)\u001b[0m\u001b[1;33m\u001b[0m\u001b[1;33m\u001b[0m\u001b[0m\n\u001b[0m",
      "\u001b[1;31mAttributeError\u001b[0m: 'tuple' object has no attribute 'pop'"
     ]
    }
   ],
   "source": [
    "tup.pop(1)"
   ]
  },
  {
   "cell_type": "code",
   "execution_count": 68,
   "id": "b37acaa4",
   "metadata": {},
   "outputs": [
    {
     "ename": "TypeError",
     "evalue": "'tuple' object doesn't support item deletion",
     "output_type": "error",
     "traceback": [
      "\u001b[1;31m---------------------------------------------------------------------------\u001b[0m",
      "\u001b[1;31mTypeError\u001b[0m                                 Traceback (most recent call last)",
      "\u001b[1;32m~\\AppData\\Local\\Temp\\ipykernel_34604\\1765158908.py\u001b[0m in \u001b[0;36m<module>\u001b[1;34m\u001b[0m\n\u001b[1;32m----> 1\u001b[1;33m \u001b[1;32mdel\u001b[0m \u001b[0mtup\u001b[0m\u001b[1;33m[\u001b[0m\u001b[1;36m1\u001b[0m\u001b[1;33m]\u001b[0m\u001b[1;33m\u001b[0m\u001b[1;33m\u001b[0m\u001b[0m\n\u001b[0m",
      "\u001b[1;31mTypeError\u001b[0m: 'tuple' object doesn't support item deletion"
     ]
    }
   ],
   "source": [
    "del tup[1]"
   ]
  },
  {
   "cell_type": "code",
   "execution_count": 69,
   "id": "0ad5a7d9",
   "metadata": {},
   "outputs": [
    {
     "data": {
      "text/plain": [
       "(1, 2, 3, 4, 5, True, False, [1, 2, 3])"
      ]
     },
     "execution_count": 69,
     "metadata": {},
     "output_type": "execute_result"
    }
   ],
   "source": [
    "tup"
   ]
  },
  {
   "cell_type": "code",
   "execution_count": 70,
   "id": "f01de0ad",
   "metadata": {},
   "outputs": [
    {
     "data": {
      "text/plain": [
       "1"
      ]
     },
     "execution_count": 70,
     "metadata": {},
     "output_type": "execute_result"
    }
   ],
   "source": [
    "tup[0]"
   ]
  },
  {
   "cell_type": "code",
   "execution_count": 71,
   "id": "87d57929",
   "metadata": {},
   "outputs": [
    {
     "data": {
      "text/plain": [
       "5"
      ]
     },
     "execution_count": 71,
     "metadata": {},
     "output_type": "execute_result"
    }
   ],
   "source": [
    "tup[4]"
   ]
  },
  {
   "cell_type": "code",
   "execution_count": 73,
   "id": "3235827c",
   "metadata": {},
   "outputs": [
    {
     "data": {
      "text/plain": [
       "(1, 2, 3, 4)"
      ]
     },
     "execution_count": 73,
     "metadata": {},
     "output_type": "execute_result"
    }
   ],
   "source": [
    "tup[0:4]"
   ]
  },
  {
   "cell_type": "code",
   "execution_count": 74,
   "id": "dcdb3c1c",
   "metadata": {},
   "outputs": [
    {
     "data": {
      "text/plain": [
       "(True, False, [1, 2, 3])"
      ]
     },
     "execution_count": 74,
     "metadata": {},
     "output_type": "execute_result"
    }
   ],
   "source": [
    "tup[5:]"
   ]
  },
  {
   "cell_type": "code",
   "execution_count": 75,
   "id": "c1e48b6f",
   "metadata": {},
   "outputs": [
    {
     "data": {
      "text/plain": [
       "(1, 2, 3, 4, True, False, [1, 2, 3])"
      ]
     },
     "execution_count": 75,
     "metadata": {},
     "output_type": "execute_result"
    }
   ],
   "source": [
    "tup[0:4] + tup[5:]"
   ]
  },
  {
   "cell_type": "code",
   "execution_count": 76,
   "id": "e7a3fe94",
   "metadata": {},
   "outputs": [],
   "source": [
    "tup = tup[0:4] + tup[5:] # tuple slicing"
   ]
  },
  {
   "cell_type": "code",
   "execution_count": 77,
   "id": "e0699269",
   "metadata": {},
   "outputs": [
    {
     "data": {
      "text/plain": [
       "(1, 2, 3, 4, True, False, [1, 2, 3])"
      ]
     },
     "execution_count": 77,
     "metadata": {},
     "output_type": "execute_result"
    }
   ],
   "source": [
    "tup"
   ]
  },
  {
   "cell_type": "markdown",
   "id": "6fbf066e",
   "metadata": {},
   "source": [
    "# Tuple to List"
   ]
  },
  {
   "cell_type": "code",
   "execution_count": 78,
   "id": "22d48a9f",
   "metadata": {},
   "outputs": [
    {
     "data": {
      "text/plain": [
       "[1, 2, 3, 4, True, False, [1, 2, 3]]"
      ]
     },
     "execution_count": 78,
     "metadata": {},
     "output_type": "execute_result"
    }
   ],
   "source": [
    "l1 = list(tup)\n",
    "l1"
   ]
  },
  {
   "cell_type": "code",
   "execution_count": 79,
   "id": "81044b0c",
   "metadata": {},
   "outputs": [],
   "source": [
    "l1.remove(1)"
   ]
  },
  {
   "cell_type": "code",
   "execution_count": 80,
   "id": "1431c287",
   "metadata": {},
   "outputs": [
    {
     "data": {
      "text/plain": [
       "[2, 3, 4, True, False, [1, 2, 3]]"
      ]
     },
     "execution_count": 80,
     "metadata": {},
     "output_type": "execute_result"
    }
   ],
   "source": [
    "l1"
   ]
  },
  {
   "cell_type": "code",
   "execution_count": null,
   "id": "c1d4f98d",
   "metadata": {},
   "outputs": [],
   "source": []
  },
  {
   "cell_type": "markdown",
   "id": "17b4865d",
   "metadata": {},
   "source": [
    "# Tuple Slicing in Python\n",
    "\n",
    "Tuples in Python are immutable sequences, typically used to store collections of heterogeneous data. Slicing is a technique used to retrieve a subset of elements from a tuple. It is similar to slicing in lists and strings.\n",
    "\n",
    "## Basic Syntax\n",
    "\n",
    "The syntax for slicing a tuple is as follows:\n",
    "\n",
    "```python\n",
    "tuple[start:stop:step]\n"
   ]
  },
  {
   "cell_type": "code",
   "execution_count": 81,
   "id": "5beec834",
   "metadata": {},
   "outputs": [
    {
     "data": {
      "text/plain": [
       "[1, 2, 3, 4, 5, 6, 7, 8, 9, 0]"
      ]
     },
     "execution_count": 81,
     "metadata": {},
     "output_type": "execute_result"
    }
   ],
   "source": [
    "t1 = [1,2,3,4,5,6,7,8,9,0]\n",
    "t1[0:10]"
   ]
  },
  {
   "cell_type": "code",
   "execution_count": 82,
   "id": "d070c4fa",
   "metadata": {},
   "outputs": [
    {
     "data": {
      "text/plain": [
       "[1, 3, 5, 7, 9]"
      ]
     },
     "execution_count": 82,
     "metadata": {},
     "output_type": "execute_result"
    }
   ],
   "source": [
    "t1[0:10:2]"
   ]
  },
  {
   "cell_type": "code",
   "execution_count": null,
   "id": "1ac32050",
   "metadata": {},
   "outputs": [],
   "source": []
  },
  {
   "cell_type": "code",
   "execution_count": null,
   "id": "76475d44",
   "metadata": {},
   "outputs": [],
   "source": []
  },
  {
   "cell_type": "markdown",
   "id": "e6891f2a",
   "metadata": {},
   "source": [
    "# 3. Sets in Python\n",
    "\n",
    "A set is an unordered collection of unique elements in Python. Sets are mutable, meaning you can add or remove elements, but they do not allow duplicate values.\n",
    "\n",
    "## Creating Sets\n",
    "\n",
    "Sets can be created using curly braces `{}` or the `set()` function.\n",
    "\n",
    "### Example:\n",
    "```python\n",
    "# Creating a set with curly braces\n",
    "dep = {\"ai\", \"ml\", \"ds\"}\n",
    "print(dep)  # Output: {\"ai\", \"ml\", \"ds\"}\n",
    "\n",
    "# Creating a set with the set() function\n",
    "numbers = set([1, 2, 3, 4, 5])\n",
    "print(numbers)  # Output: {1, 2, 3, 4, 5}\n",
    "\n",
    "# Creating an empty set\n",
    "empty_set = set()\n",
    "print(empty_set)  # Output: set()\n"
   ]
  },
  {
   "cell_type": "code",
   "execution_count": 83,
   "id": "8c02dc99",
   "metadata": {},
   "outputs": [],
   "source": [
    "dep = {\"ai\", \"ml\", \"ds\"}"
   ]
  },
  {
   "cell_type": "code",
   "execution_count": 84,
   "id": "4bb7a9ed",
   "metadata": {},
   "outputs": [
    {
     "data": {
      "text/plain": [
       "{'ai', 'ds', 'ml'}"
      ]
     },
     "execution_count": 84,
     "metadata": {},
     "output_type": "execute_result"
    }
   ],
   "source": [
    "dep"
   ]
  },
  {
   "cell_type": "code",
   "execution_count": 85,
   "id": "3ad752d1",
   "metadata": {},
   "outputs": [],
   "source": [
    "s1 = (1,2,3,4,5,10,'ai')"
   ]
  },
  {
   "cell_type": "code",
   "execution_count": 86,
   "id": "ee45dc71",
   "metadata": {
    "scrolled": true
   },
   "outputs": [
    {
     "data": {
      "text/plain": [
       "(1, 2, 3, 4, 5, 10, 'ai')"
      ]
     },
     "execution_count": 86,
     "metadata": {},
     "output_type": "execute_result"
    }
   ],
   "source": [
    "s1"
   ]
  },
  {
   "cell_type": "code",
   "execution_count": 87,
   "id": "ea6adde7",
   "metadata": {},
   "outputs": [
    {
     "data": {
      "text/plain": [
       "{1, 10, 2, 3, 4, 5, 'ai', 'ds', 'ml'}"
      ]
     },
     "execution_count": 87,
     "metadata": {},
     "output_type": "execute_result"
    }
   ],
   "source": [
    "dep.union(s1)"
   ]
  },
  {
   "cell_type": "code",
   "execution_count": 88,
   "id": "8e6af3ad",
   "metadata": {
    "scrolled": true
   },
   "outputs": [
    {
     "data": {
      "text/plain": [
       "{'ai'}"
      ]
     },
     "execution_count": 88,
     "metadata": {},
     "output_type": "execute_result"
    }
   ],
   "source": [
    "dep.intersection(s1)"
   ]
  },
  {
   "cell_type": "code",
   "execution_count": 90,
   "id": "a5065b7b",
   "metadata": {},
   "outputs": [
    {
     "data": {
      "text/plain": [
       "True"
      ]
     },
     "execution_count": 90,
     "metadata": {},
     "output_type": "execute_result"
    }
   ],
   "source": [
    "s2 = {1,2,3}\n",
    "\n",
    "s2.issubset(s1) #s2 er element gula s1 a ase kina? jodi thake tahole true r na thakne false"
   ]
  },
  {
   "cell_type": "code",
   "execution_count": 93,
   "id": "0d40f5f4",
   "metadata": {},
   "outputs": [],
   "source": [
    "s1 = {1,2,3,4,5,10,'ai'}"
   ]
  },
  {
   "cell_type": "code",
   "execution_count": 95,
   "id": "68ee2fa6",
   "metadata": {},
   "outputs": [
    {
     "data": {
      "text/plain": [
       "{10, 4, 5, 'ai'}"
      ]
     },
     "execution_count": 95,
     "metadata": {},
     "output_type": "execute_result"
    }
   ],
   "source": [
    "s1.difference(s2)"
   ]
  },
  {
   "cell_type": "code",
   "execution_count": 96,
   "id": "86d5d01b",
   "metadata": {},
   "outputs": [],
   "source": [
    "s1.add(5)"
   ]
  },
  {
   "cell_type": "code",
   "execution_count": 97,
   "id": "f65ef0d4",
   "metadata": {},
   "outputs": [
    {
     "data": {
      "text/plain": [
       "{1, 10, 2, 3, 4, 5, 'ai'}"
      ]
     },
     "execution_count": 97,
     "metadata": {},
     "output_type": "execute_result"
    }
   ],
   "source": [
    "s1"
   ]
  },
  {
   "cell_type": "code",
   "execution_count": 98,
   "id": "e6fd6add",
   "metadata": {},
   "outputs": [],
   "source": [
    "s3 = {1, 10, 2, 3, 4, 5, 'ai',5,5,5,5}"
   ]
  },
  {
   "cell_type": "code",
   "execution_count": 99,
   "id": "b68303d6",
   "metadata": {},
   "outputs": [
    {
     "data": {
      "text/plain": [
       "{1, 10, 2, 3, 4, 5, 'ai'}"
      ]
     },
     "execution_count": 99,
     "metadata": {},
     "output_type": "execute_result"
    }
   ],
   "source": [
    "s3"
   ]
  },
  {
   "cell_type": "code",
   "execution_count": 101,
   "id": "80a47d3d",
   "metadata": {},
   "outputs": [],
   "source": [
    "s3.remove(5)"
   ]
  },
  {
   "cell_type": "code",
   "execution_count": 102,
   "id": "23446d64",
   "metadata": {},
   "outputs": [
    {
     "data": {
      "text/plain": [
       "{1, 10, 2, 3, 4, 'ai'}"
      ]
     },
     "execution_count": 102,
     "metadata": {},
     "output_type": "execute_result"
    }
   ],
   "source": [
    "s3"
   ]
  },
  {
   "cell_type": "code",
   "execution_count": 103,
   "id": "438da9d1",
   "metadata": {},
   "outputs": [
    {
     "ename": "KeyError",
     "evalue": "5",
     "output_type": "error",
     "traceback": [
      "\u001b[1;31m---------------------------------------------------------------------------\u001b[0m",
      "\u001b[1;31mKeyError\u001b[0m                                  Traceback (most recent call last)",
      "\u001b[1;32m~\\AppData\\Local\\Temp\\ipykernel_34604\\1162602876.py\u001b[0m in \u001b[0;36m<module>\u001b[1;34m\u001b[0m\n\u001b[1;32m----> 1\u001b[1;33m \u001b[0ms3\u001b[0m\u001b[1;33m.\u001b[0m\u001b[0mremove\u001b[0m\u001b[1;33m(\u001b[0m\u001b[1;36m5\u001b[0m\u001b[1;33m)\u001b[0m\u001b[1;33m\u001b[0m\u001b[1;33m\u001b[0m\u001b[0m\n\u001b[0m",
      "\u001b[1;31mKeyError\u001b[0m: 5"
     ]
    }
   ],
   "source": [
    "s3.remove(5)"
   ]
  },
  {
   "cell_type": "code",
   "execution_count": 104,
   "id": "665b3a40",
   "metadata": {},
   "outputs": [],
   "source": [
    "s3.discard(2)"
   ]
  },
  {
   "cell_type": "code",
   "execution_count": 105,
   "id": "8f29cc72",
   "metadata": {},
   "outputs": [
    {
     "data": {
      "text/plain": [
       "{1, 10, 3, 4, 'ai'}"
      ]
     },
     "execution_count": 105,
     "metadata": {},
     "output_type": "execute_result"
    }
   ],
   "source": [
    "s3"
   ]
  },
  {
   "cell_type": "code",
   "execution_count": 106,
   "id": "0ac19f12",
   "metadata": {},
   "outputs": [],
   "source": [
    "s3.discard(2)"
   ]
  },
  {
   "cell_type": "code",
   "execution_count": 107,
   "id": "0dc02281",
   "metadata": {},
   "outputs": [
    {
     "data": {
      "text/plain": [
       "{1, 10, 3, 4, 'ai'}"
      ]
     },
     "execution_count": 107,
     "metadata": {},
     "output_type": "execute_result"
    }
   ],
   "source": [
    "s3"
   ]
  },
  {
   "cell_type": "code",
   "execution_count": 108,
   "id": "3a70f4f0",
   "metadata": {},
   "outputs": [
    {
     "data": {
      "text/plain": [
       "{1, 10, 2, 3, 4, 5, 'ai'}"
      ]
     },
     "execution_count": 108,
     "metadata": {},
     "output_type": "execute_result"
    }
   ],
   "source": [
    "s1 | s2 #union"
   ]
  },
  {
   "cell_type": "code",
   "execution_count": 109,
   "id": "d2d1e52f",
   "metadata": {},
   "outputs": [
    {
     "data": {
      "text/plain": [
       "{1, 2, 3}"
      ]
     },
     "execution_count": 109,
     "metadata": {},
     "output_type": "execute_result"
    }
   ],
   "source": [
    "s1 & s2 #intersection"
   ]
  },
  {
   "cell_type": "markdown",
   "id": "98662c0a",
   "metadata": {},
   "source": [
    "# 4. Frozen Sets in Python\n",
    "\n",
    "A `frozenset` is an `immutable version` of a set. Once created, elements cannot be added or removed from a `frozenset`. This makes `frozenset` hashable and eligible to be used as keys in dictionaries or elements of other sets.\n",
    "\n",
    "## Creating Frozen Sets\n",
    "\n",
    "Frozen sets can be created using the `frozenset()` function.\n",
    "\n",
    "### Example:\n",
    "```python\n",
    "# Creating a frozenset\n",
    "frozen_fruits = frozenset([\"ai\", \"ds\", \"ml\"])\n",
    "print(frozen_fruits)  # Output: frozenset({\"ai\", \"ds\", \"ml\"})\n"
   ]
  },
  {
   "cell_type": "code",
   "execution_count": 110,
   "id": "eefccfc7",
   "metadata": {},
   "outputs": [
    {
     "data": {
      "text/plain": [
       "frozenset({'ai', 'ds', 'ml'})"
      ]
     },
     "execution_count": 110,
     "metadata": {},
     "output_type": "execute_result"
    }
   ],
   "source": [
    "frozen_fruits = frozenset([\"ai\", \"ds\", \"ml\"])\n",
    "frozen_fruits"
   ]
  },
  {
   "cell_type": "code",
   "execution_count": 111,
   "id": "ecb224ef",
   "metadata": {},
   "outputs": [
    {
     "ename": "AttributeError",
     "evalue": "'frozenset' object has no attribute 'add'",
     "output_type": "error",
     "traceback": [
      "\u001b[1;31m---------------------------------------------------------------------------\u001b[0m",
      "\u001b[1;31mAttributeError\u001b[0m                            Traceback (most recent call last)",
      "\u001b[1;32m~\\AppData\\Local\\Temp\\ipykernel_34604\\234033758.py\u001b[0m in \u001b[0;36m<module>\u001b[1;34m\u001b[0m\n\u001b[1;32m----> 1\u001b[1;33m \u001b[0mfrozen_fruits\u001b[0m\u001b[1;33m.\u001b[0m\u001b[0madd\u001b[0m\u001b[1;33m(\u001b[0m\u001b[1;36m10\u001b[0m\u001b[1;33m)\u001b[0m\u001b[1;33m\u001b[0m\u001b[1;33m\u001b[0m\u001b[0m\n\u001b[0m",
      "\u001b[1;31mAttributeError\u001b[0m: 'frozenset' object has no attribute 'add'"
     ]
    }
   ],
   "source": [
    "frozen_fruits.add(10)"
   ]
  },
  {
   "cell_type": "code",
   "execution_count": null,
   "id": "ba03c4fb",
   "metadata": {},
   "outputs": [],
   "source": []
  },
  {
   "cell_type": "code",
   "execution_count": null,
   "id": "858b90cd",
   "metadata": {},
   "outputs": [],
   "source": []
  },
  {
   "cell_type": "markdown",
   "id": "3ca2cc6f",
   "metadata": {},
   "source": [
    "# 5. Dictionaries in Python\n",
    "\n",
    "A dictionary is an unordered collection of key-value pairs. Keys must be unique and immutable (such as strings, numbers, or tuples), while values can be of any data type.\n",
    "\n",
    "## Creating Dictionaries\n",
    "\n",
    "Dictionaries can be created using curly braces `{}` with key-value pairs or the `dict()` function.\n",
    "\n",
    "### Example:\n",
    "```python\n",
    "# Creating a dictionary using curly braces\n",
    "person = {\n",
    "    \"name\": \"Shakil\",\n",
    "    \"age\": 27,\n",
    "    \"city\": \"Munich\"\n",
    "}\n",
    "print(person)  # Output: {'name': 'Shakil', 'age': 27, 'city': 'Munich'}\n",
    "\n",
    "# Creating a dictionary using the dict() function\n",
    "person = dict(name=\"Shakil\", age=28, city=\"Erlangen\")\n",
    "print(person)  # Output: {'name': 'Shakil', 'age': 28, 'city': 'Erlangen'}\n"
   ]
  },
  {
   "cell_type": "code",
   "execution_count": 114,
   "id": "a70b1c4d",
   "metadata": {},
   "outputs": [],
   "source": [
    "per = {\n",
    "    \"name\": \"Shakil\",\n",
    "    \"age\": 27,\n",
    "    \"city\": \"Munich\"\n",
    "}"
   ]
  },
  {
   "cell_type": "code",
   "execution_count": 115,
   "id": "34be23ed",
   "metadata": {},
   "outputs": [
    {
     "data": {
      "text/plain": [
       "{'name': 'Shakil', 'age': 27, 'city': 'Munich'}"
      ]
     },
     "execution_count": 115,
     "metadata": {},
     "output_type": "execute_result"
    }
   ],
   "source": [
    "per"
   ]
  },
  {
   "cell_type": "code",
   "execution_count": 116,
   "id": "1b8d5e55",
   "metadata": {},
   "outputs": [
    {
     "data": {
      "text/plain": [
       "dict_values(['Shakil', 27, 'Munich'])"
      ]
     },
     "execution_count": 116,
     "metadata": {},
     "output_type": "execute_result"
    }
   ],
   "source": [
    "per.values()"
   ]
  },
  {
   "cell_type": "code",
   "execution_count": 117,
   "id": "117c3be4",
   "metadata": {
    "scrolled": true
   },
   "outputs": [
    {
     "data": {
      "text/plain": [
       "dict_keys(['name', 'age', 'city'])"
      ]
     },
     "execution_count": 117,
     "metadata": {},
     "output_type": "execute_result"
    }
   ],
   "source": [
    "per.keys()"
   ]
  },
  {
   "cell_type": "code",
   "execution_count": 119,
   "id": "965cd96c",
   "metadata": {},
   "outputs": [
    {
     "data": {
      "text/plain": [
       "27"
      ]
     },
     "execution_count": 119,
     "metadata": {},
     "output_type": "execute_result"
    }
   ],
   "source": [
    "per['age']"
   ]
  },
  {
   "cell_type": "code",
   "execution_count": 120,
   "id": "0d87c693",
   "metadata": {},
   "outputs": [],
   "source": [
    "per.update({'age':28})"
   ]
  },
  {
   "cell_type": "code",
   "execution_count": 121,
   "id": "60390bd8",
   "metadata": {},
   "outputs": [
    {
     "data": {
      "text/plain": [
       "{'name': 'Shakil', 'age': 28, 'city': 'Munich'}"
      ]
     },
     "execution_count": 121,
     "metadata": {},
     "output_type": "execute_result"
    }
   ],
   "source": [
    "per"
   ]
  },
  {
   "cell_type": "code",
   "execution_count": 122,
   "id": "c2f7b1ee",
   "metadata": {},
   "outputs": [
    {
     "data": {
      "text/plain": [
       "28"
      ]
     },
     "execution_count": 122,
     "metadata": {},
     "output_type": "execute_result"
    }
   ],
   "source": [
    "per.pop('age')"
   ]
  },
  {
   "cell_type": "code",
   "execution_count": 123,
   "id": "b38ffc1a",
   "metadata": {},
   "outputs": [
    {
     "data": {
      "text/plain": [
       "{'name': 'Shakil', 'city': 'Munich'}"
      ]
     },
     "execution_count": 123,
     "metadata": {},
     "output_type": "execute_result"
    }
   ],
   "source": [
    "per"
   ]
  },
  {
   "cell_type": "code",
   "execution_count": 126,
   "id": "e9af3667",
   "metadata": {},
   "outputs": [],
   "source": [
    "per = {\n",
    "    \"name\": [\"Shakil\",'abc'],\n",
    "    \"age\": [27,10],\n",
    "    \"city\": ['Munic','Erlangen']\n",
    "}"
   ]
  },
  {
   "cell_type": "code",
   "execution_count": 128,
   "id": "5d543771",
   "metadata": {},
   "outputs": [],
   "source": [
    "per['age'] = None"
   ]
  },
  {
   "cell_type": "code",
   "execution_count": 129,
   "id": "bc31f6a8",
   "metadata": {},
   "outputs": [
    {
     "data": {
      "text/plain": [
       "{'name': ['Shakil', 'abc'], 'age': None, 'city': ['Munic', 'Erlangen']}"
      ]
     },
     "execution_count": 129,
     "metadata": {},
     "output_type": "execute_result"
    }
   ],
   "source": [
    "per"
   ]
  },
  {
   "cell_type": "code",
   "execution_count": 130,
   "id": "c874c6cd",
   "metadata": {},
   "outputs": [],
   "source": [
    "per['age'] = []"
   ]
  },
  {
   "cell_type": "code",
   "execution_count": 131,
   "id": "85cb27f2",
   "metadata": {},
   "outputs": [
    {
     "data": {
      "text/plain": [
       "{'name': ['Shakil', 'abc'], 'age': [], 'city': ['Munic', 'Erlangen']}"
      ]
     },
     "execution_count": 131,
     "metadata": {},
     "output_type": "execute_result"
    }
   ],
   "source": [
    "per"
   ]
  },
  {
   "cell_type": "code",
   "execution_count": 133,
   "id": "3d333538",
   "metadata": {},
   "outputs": [],
   "source": [
    "per = {\n",
    "    \"name\": [\"Shakil\",'abc'],\n",
    "    \"age\": [27,10],\n",
    "    \"city\": ['Munic','Erlangen']\n",
    "}"
   ]
  },
  {
   "cell_type": "code",
   "execution_count": 135,
   "id": "dbc5ad50",
   "metadata": {},
   "outputs": [
    {
     "data": {
      "text/html": [
       "<div>\n",
       "<style scoped>\n",
       "    .dataframe tbody tr th:only-of-type {\n",
       "        vertical-align: middle;\n",
       "    }\n",
       "\n",
       "    .dataframe tbody tr th {\n",
       "        vertical-align: top;\n",
       "    }\n",
       "\n",
       "    .dataframe thead th {\n",
       "        text-align: right;\n",
       "    }\n",
       "</style>\n",
       "<table border=\"1\" class=\"dataframe\">\n",
       "  <thead>\n",
       "    <tr style=\"text-align: right;\">\n",
       "      <th></th>\n",
       "      <th>name</th>\n",
       "      <th>age</th>\n",
       "      <th>city</th>\n",
       "    </tr>\n",
       "  </thead>\n",
       "  <tbody>\n",
       "    <tr>\n",
       "      <th>0</th>\n",
       "      <td>Shakil</td>\n",
       "      <td>27</td>\n",
       "      <td>Munic</td>\n",
       "    </tr>\n",
       "    <tr>\n",
       "      <th>1</th>\n",
       "      <td>abc</td>\n",
       "      <td>10</td>\n",
       "      <td>Erlangen</td>\n",
       "    </tr>\n",
       "  </tbody>\n",
       "</table>\n",
       "</div>"
      ],
      "text/plain": [
       "     name  age      city\n",
       "0  Shakil   27     Munic\n",
       "1     abc   10  Erlangen"
      ]
     },
     "execution_count": 135,
     "metadata": {},
     "output_type": "execute_result"
    }
   ],
   "source": [
    "import pandas as pd\n",
    "df = pd.DataFrame(per)\n",
    "df"
   ]
  },
  {
   "cell_type": "code",
   "execution_count": 136,
   "id": "c0ac8b4a",
   "metadata": {},
   "outputs": [],
   "source": [
    "df.to_csv('data.csv')"
   ]
  },
  {
   "cell_type": "code",
   "execution_count": 138,
   "id": "52306ed8",
   "metadata": {},
   "outputs": [
    {
     "data": {
      "text/plain": [
       "{'name': ['Shakil', 'abc'], 'age': [27, 10], 'city': ['Munic', 'Erlangen']}"
      ]
     },
     "execution_count": 138,
     "metadata": {},
     "output_type": "execute_result"
    }
   ],
   "source": [
    "per"
   ]
  },
  {
   "cell_type": "code",
   "execution_count": 139,
   "id": "1f4fd350",
   "metadata": {},
   "outputs": [],
   "source": [
    "per['age'].remove(27)"
   ]
  },
  {
   "cell_type": "code",
   "execution_count": 140,
   "id": "0ba1bd10",
   "metadata": {},
   "outputs": [
    {
     "data": {
      "text/plain": [
       "{'name': ['Shakil', 'abc'], 'age': [10], 'city': ['Munic', 'Erlangen']}"
      ]
     },
     "execution_count": 140,
     "metadata": {},
     "output_type": "execute_result"
    }
   ],
   "source": [
    "per"
   ]
  },
  {
   "cell_type": "code",
   "execution_count": null,
   "id": "25397762",
   "metadata": {},
   "outputs": [],
   "source": []
  },
  {
   "cell_type": "markdown",
   "id": "2b8a499b",
   "metadata": {},
   "source": [
    "# List Comprehension: Elegant Way to Create Lists\n",
    "\n",
    "List comprehension provides a concise way to create lists in Python. It consists of brackets containing an expression followed by a `for` clause, and optionally `if` clauses. List comprehensions are a more compact and readable alternative to using loops for creating lists.\n",
    "\n",
    "## Basic Syntax\n",
    "\n",
    "```python\n",
    "[expression for item in iterable if condition]\n"
   ]
  },
  {
   "cell_type": "markdown",
   "id": "cbe83051",
   "metadata": {},
   "source": [
    "## Components\n",
    "1. expression: The expression is the value or operation that is applied to each element. <br>\n",
    "2. item: The variable that takes the value of the item inside the iterable. <br>\n",
    "3. iterable: A collection of elements (e.g., list, tuple, string) to iterate over. <br>\n",
    "4. condition (optional): A condition to filter items from the iterable."
   ]
  },
  {
   "cell_type": "markdown",
   "id": "b07614ed",
   "metadata": {},
   "source": [
    "squares = [x**2 for x in range(10)] <br>\n",
    "print(squares) <br>\n",
    "Output: [0, 1, 4, 9, 16, 25, 36, 49, 64, 81]"
   ]
  },
  {
   "cell_type": "code",
   "execution_count": 141,
   "id": "f7f7ea51",
   "metadata": {},
   "outputs": [],
   "source": [
    "squares = [x**2 for x in range(10)]"
   ]
  },
  {
   "cell_type": "code",
   "execution_count": 142,
   "id": "17b8c770",
   "metadata": {},
   "outputs": [
    {
     "data": {
      "text/plain": [
       "[0, 1, 4, 9, 16, 25, 36, 49, 64, 81]"
      ]
     },
     "execution_count": 142,
     "metadata": {},
     "output_type": "execute_result"
    }
   ],
   "source": [
    "squares"
   ]
  },
  {
   "cell_type": "code",
   "execution_count": 147,
   "id": "efb77be5",
   "metadata": {},
   "outputs": [
    {
     "data": {
      "text/plain": [
       "[1, 3, 5, 7, 9, 11, 13]"
      ]
     },
     "execution_count": 147,
     "metadata": {},
     "output_type": "execute_result"
    }
   ],
   "source": [
    "[i for i in range(15) if i%2!=0]"
   ]
  },
  {
   "cell_type": "code",
   "execution_count": 148,
   "id": "429086c7",
   "metadata": {},
   "outputs": [
    {
     "data": {
      "text/plain": [
       "[11, 13, 15, 17, 19, 21, 23]"
      ]
     },
     "execution_count": 148,
     "metadata": {},
     "output_type": "execute_result"
    }
   ],
   "source": [
    "[i+10 for i in range(15) if i%2!=0]"
   ]
  },
  {
   "cell_type": "markdown",
   "id": "75307c7b",
   "metadata": {},
   "source": [
    "# Tuple Comprehension in Python\n",
    "\n",
    "Although Python does not support tuple comprehensions directly, you can achieve similar functionality using generator expressions or by converting a list comprehension to a tuple.\n",
    "\n",
    "## Generator\n",
    "A generator in Python is a special type of `iterable` that allows you to iterate over a sequence of values. Unlike lists, which store all values in memory, a generator computes each value on the fly and yields it one at a time, which makes it more memory efficient, especially for large datasets. <br>\n",
    "\n",
    "#Generator expression to generate squares of even numbers from 0 to 9 <br>\n",
    "even_squares = (x**2 for x in range(10) if x % 2 == 0)\n",
    "\n",
    "## Using Generator Expressions\n",
    "\n",
    "A generator expression is similar to a list comprehension, but it uses parentheses `()` instead of square brackets `[]`. It generates items one by one and is more memory efficient than a list comprehension.\n",
    "\n",
    "### Example:\n",
    "```python\n",
    "# Generator expression\n",
    "gen_expr = (x**2 for x in range(10))\n",
    "\n",
    "# Converting generator expression to tuple\n",
    "tuple_from_gen_expr = tuple(gen_expr)\n",
    "print(tuple_from_gen_expr)\n",
    "# Output: (0, 1, 4, 9, 16, 25, 36, 49, 64, 81)\n"
   ]
  },
  {
   "cell_type": "markdown",
   "id": "64e895a2",
   "metadata": {},
   "source": [
    "# Memory Comparison"
   ]
  },
  {
   "cell_type": "code",
   "execution_count": 150,
   "id": "ebbf5555",
   "metadata": {},
   "outputs": [
    {
     "data": {
      "text/plain": [
       "<generator object <genexpr> at 0x000001790C3EA040>"
      ]
     },
     "execution_count": 150,
     "metadata": {},
     "output_type": "execute_result"
    }
   ],
   "source": [
    "gen = (i+10 for i in range(15) if i%2!=0)\n",
    "gen"
   ]
  },
  {
   "cell_type": "code",
   "execution_count": 151,
   "id": "73f50a9c",
   "metadata": {},
   "outputs": [
    {
     "data": {
      "text/plain": [
       "(11, 13, 15, 17, 19, 21, 23)"
      ]
     },
     "execution_count": 151,
     "metadata": {},
     "output_type": "execute_result"
    }
   ],
   "source": [
    "tuple(gen)"
   ]
  },
  {
   "cell_type": "code",
   "execution_count": 152,
   "id": "e1246cdc",
   "metadata": {},
   "outputs": [
    {
     "data": {
      "text/plain": [
       "40"
      ]
     },
     "execution_count": 152,
     "metadata": {},
     "output_type": "execute_result"
    }
   ],
   "source": [
    "sys.getsizeof(tuple(gen))"
   ]
  },
  {
   "cell_type": "code",
   "execution_count": 153,
   "id": "34241ec7",
   "metadata": {},
   "outputs": [
    {
     "data": {
      "text/plain": [
       "120"
      ]
     },
     "execution_count": 153,
     "metadata": {},
     "output_type": "execute_result"
    }
   ],
   "source": [
    "sys.getsizeof([11, 13, 15, 17, 19, 21, 23])"
   ]
  },
  {
   "cell_type": "markdown",
   "id": "ee630fea",
   "metadata": {},
   "source": [
    "# Working with Pandas DataFrame\n",
    "\n",
    "In this example, we will create a Pandas DataFrame using the dictionary:\n",
    "```python\n",
    "person = {\n",
    "    \"name\": \"Shakil\",\n",
    "    \"age\": 27,\n",
    "    \"city\": \"Munich\"\n",
    "}\n"
   ]
  },
  {
   "cell_type": "markdown",
   "id": "c1c64737",
   "metadata": {},
   "source": [
    "#!pip install library_name <br>\n",
    "#!pip install pandas"
   ]
  },
  {
   "cell_type": "code",
   "execution_count": 159,
   "id": "2df73cdd",
   "metadata": {},
   "outputs": [],
   "source": [
    "import pandas as pd"
   ]
  },
  {
   "cell_type": "code",
   "execution_count": 160,
   "id": "4585931d",
   "metadata": {},
   "outputs": [],
   "source": [
    "people = [\n",
    "    [\"Shakil\", 27, \"Munich\"],\n",
    "    [\"ABC\", 25, \"Berlin\"],\n",
    "    [\"DEF\", 30, \"Hamburg\"],\n",
    "    [\"JKL\", 35, \"Munich\"]\n",
    "]\n"
   ]
  },
  {
   "cell_type": "code",
   "execution_count": 161,
   "id": "7e336477",
   "metadata": {},
   "outputs": [
    {
     "data": {
      "text/plain": [
       "{'name': 'Shakil', 'age': 27, 'city': 'Munich'}"
      ]
     },
     "execution_count": 161,
     "metadata": {},
     "output_type": "execute_result"
    }
   ],
   "source": [
    "person"
   ]
  },
  {
   "cell_type": "code",
   "execution_count": 162,
   "id": "c8eea133",
   "metadata": {},
   "outputs": [],
   "source": [
    "#!pip install pandas"
   ]
  },
  {
   "cell_type": "code",
   "execution_count": 163,
   "id": "d1f7bde6",
   "metadata": {},
   "outputs": [],
   "source": [
    "df = pd.DataFrame(people)"
   ]
  },
  {
   "cell_type": "code",
   "execution_count": 164,
   "id": "1121e757",
   "metadata": {},
   "outputs": [
    {
     "data": {
      "text/html": [
       "<div>\n",
       "<style scoped>\n",
       "    .dataframe tbody tr th:only-of-type {\n",
       "        vertical-align: middle;\n",
       "    }\n",
       "\n",
       "    .dataframe tbody tr th {\n",
       "        vertical-align: top;\n",
       "    }\n",
       "\n",
       "    .dataframe thead th {\n",
       "        text-align: right;\n",
       "    }\n",
       "</style>\n",
       "<table border=\"1\" class=\"dataframe\">\n",
       "  <thead>\n",
       "    <tr style=\"text-align: right;\">\n",
       "      <th></th>\n",
       "      <th>0</th>\n",
       "      <th>1</th>\n",
       "      <th>2</th>\n",
       "    </tr>\n",
       "  </thead>\n",
       "  <tbody>\n",
       "    <tr>\n",
       "      <th>0</th>\n",
       "      <td>Shakil</td>\n",
       "      <td>27</td>\n",
       "      <td>Munich</td>\n",
       "    </tr>\n",
       "    <tr>\n",
       "      <th>1</th>\n",
       "      <td>ABC</td>\n",
       "      <td>25</td>\n",
       "      <td>Berlin</td>\n",
       "    </tr>\n",
       "    <tr>\n",
       "      <th>2</th>\n",
       "      <td>DEF</td>\n",
       "      <td>30</td>\n",
       "      <td>Hamburg</td>\n",
       "    </tr>\n",
       "    <tr>\n",
       "      <th>3</th>\n",
       "      <td>JKL</td>\n",
       "      <td>35</td>\n",
       "      <td>Munich</td>\n",
       "    </tr>\n",
       "  </tbody>\n",
       "</table>\n",
       "</div>"
      ],
      "text/plain": [
       "        0   1        2\n",
       "0  Shakil  27   Munich\n",
       "1     ABC  25   Berlin\n",
       "2     DEF  30  Hamburg\n",
       "3     JKL  35   Munich"
      ]
     },
     "execution_count": 164,
     "metadata": {},
     "output_type": "execute_result"
    }
   ],
   "source": [
    "df"
   ]
  },
  {
   "cell_type": "code",
   "execution_count": 165,
   "id": "8605cc3e",
   "metadata": {},
   "outputs": [
    {
     "data": {
      "text/plain": [
       "list"
      ]
     },
     "execution_count": 165,
     "metadata": {},
     "output_type": "execute_result"
    }
   ],
   "source": [
    "type(people)"
   ]
  },
  {
   "cell_type": "code",
   "execution_count": 166,
   "id": "3c08e4b1",
   "metadata": {},
   "outputs": [
    {
     "data": {
      "text/plain": [
       "(4, 3)"
      ]
     },
     "execution_count": 166,
     "metadata": {},
     "output_type": "execute_result"
    }
   ],
   "source": [
    "df.shape"
   ]
  },
  {
   "cell_type": "code",
   "execution_count": 167,
   "id": "becb9496",
   "metadata": {},
   "outputs": [],
   "source": [
    "df = pd.DataFrame(people,columns=('name','age','location') )"
   ]
  },
  {
   "cell_type": "code",
   "execution_count": 168,
   "id": "dca76cdb",
   "metadata": {},
   "outputs": [
    {
     "data": {
      "text/html": [
       "<div>\n",
       "<style scoped>\n",
       "    .dataframe tbody tr th:only-of-type {\n",
       "        vertical-align: middle;\n",
       "    }\n",
       "\n",
       "    .dataframe tbody tr th {\n",
       "        vertical-align: top;\n",
       "    }\n",
       "\n",
       "    .dataframe thead th {\n",
       "        text-align: right;\n",
       "    }\n",
       "</style>\n",
       "<table border=\"1\" class=\"dataframe\">\n",
       "  <thead>\n",
       "    <tr style=\"text-align: right;\">\n",
       "      <th></th>\n",
       "      <th>name</th>\n",
       "      <th>age</th>\n",
       "      <th>location</th>\n",
       "    </tr>\n",
       "  </thead>\n",
       "  <tbody>\n",
       "    <tr>\n",
       "      <th>0</th>\n",
       "      <td>Shakil</td>\n",
       "      <td>27</td>\n",
       "      <td>Munich</td>\n",
       "    </tr>\n",
       "    <tr>\n",
       "      <th>1</th>\n",
       "      <td>ABC</td>\n",
       "      <td>25</td>\n",
       "      <td>Berlin</td>\n",
       "    </tr>\n",
       "    <tr>\n",
       "      <th>2</th>\n",
       "      <td>DEF</td>\n",
       "      <td>30</td>\n",
       "      <td>Hamburg</td>\n",
       "    </tr>\n",
       "    <tr>\n",
       "      <th>3</th>\n",
       "      <td>JKL</td>\n",
       "      <td>35</td>\n",
       "      <td>Munich</td>\n",
       "    </tr>\n",
       "  </tbody>\n",
       "</table>\n",
       "</div>"
      ],
      "text/plain": [
       "     name  age location\n",
       "0  Shakil   27   Munich\n",
       "1     ABC   25   Berlin\n",
       "2     DEF   30  Hamburg\n",
       "3     JKL   35   Munich"
      ]
     },
     "execution_count": 168,
     "metadata": {},
     "output_type": "execute_result"
    }
   ],
   "source": [
    "df"
   ]
  },
  {
   "cell_type": "code",
   "execution_count": 171,
   "id": "e207dc32",
   "metadata": {},
   "outputs": [],
   "source": [
    "df = pd.DataFrame(people,columns=('name','age','location'), index=('10-12-2024','10-12-2025','10-12-2026','10-12-2027',))"
   ]
  },
  {
   "cell_type": "code",
   "execution_count": 172,
   "id": "52084cdc",
   "metadata": {},
   "outputs": [
    {
     "data": {
      "text/html": [
       "<div>\n",
       "<style scoped>\n",
       "    .dataframe tbody tr th:only-of-type {\n",
       "        vertical-align: middle;\n",
       "    }\n",
       "\n",
       "    .dataframe tbody tr th {\n",
       "        vertical-align: top;\n",
       "    }\n",
       "\n",
       "    .dataframe thead th {\n",
       "        text-align: right;\n",
       "    }\n",
       "</style>\n",
       "<table border=\"1\" class=\"dataframe\">\n",
       "  <thead>\n",
       "    <tr style=\"text-align: right;\">\n",
       "      <th></th>\n",
       "      <th>name</th>\n",
       "      <th>age</th>\n",
       "      <th>location</th>\n",
       "    </tr>\n",
       "  </thead>\n",
       "  <tbody>\n",
       "    <tr>\n",
       "      <th>10-12-2024</th>\n",
       "      <td>Shakil</td>\n",
       "      <td>27</td>\n",
       "      <td>Munich</td>\n",
       "    </tr>\n",
       "    <tr>\n",
       "      <th>10-12-2025</th>\n",
       "      <td>ABC</td>\n",
       "      <td>25</td>\n",
       "      <td>Berlin</td>\n",
       "    </tr>\n",
       "    <tr>\n",
       "      <th>10-12-2026</th>\n",
       "      <td>DEF</td>\n",
       "      <td>30</td>\n",
       "      <td>Hamburg</td>\n",
       "    </tr>\n",
       "    <tr>\n",
       "      <th>10-12-2027</th>\n",
       "      <td>JKL</td>\n",
       "      <td>35</td>\n",
       "      <td>Munich</td>\n",
       "    </tr>\n",
       "  </tbody>\n",
       "</table>\n",
       "</div>"
      ],
      "text/plain": [
       "              name  age location\n",
       "10-12-2024  Shakil   27   Munich\n",
       "10-12-2025     ABC   25   Berlin\n",
       "10-12-2026     DEF   30  Hamburg\n",
       "10-12-2027     JKL   35   Munich"
      ]
     },
     "execution_count": 172,
     "metadata": {},
     "output_type": "execute_result"
    }
   ],
   "source": [
    "df"
   ]
  },
  {
   "cell_type": "code",
   "execution_count": 174,
   "id": "74e71238",
   "metadata": {},
   "outputs": [
    {
     "data": {
      "text/html": [
       "<div>\n",
       "<style scoped>\n",
       "    .dataframe tbody tr th:only-of-type {\n",
       "        vertical-align: middle;\n",
       "    }\n",
       "\n",
       "    .dataframe tbody tr th {\n",
       "        vertical-align: top;\n",
       "    }\n",
       "\n",
       "    .dataframe thead th {\n",
       "        text-align: right;\n",
       "    }\n",
       "</style>\n",
       "<table border=\"1\" class=\"dataframe\">\n",
       "  <thead>\n",
       "    <tr style=\"text-align: right;\">\n",
       "      <th></th>\n",
       "      <th>age</th>\n",
       "      <th>location</th>\n",
       "    </tr>\n",
       "  </thead>\n",
       "  <tbody>\n",
       "    <tr>\n",
       "      <th>10-12-2024</th>\n",
       "      <td>27</td>\n",
       "      <td>Munich</td>\n",
       "    </tr>\n",
       "    <tr>\n",
       "      <th>10-12-2025</th>\n",
       "      <td>25</td>\n",
       "      <td>Berlin</td>\n",
       "    </tr>\n",
       "    <tr>\n",
       "      <th>10-12-2026</th>\n",
       "      <td>30</td>\n",
       "      <td>Hamburg</td>\n",
       "    </tr>\n",
       "    <tr>\n",
       "      <th>10-12-2027</th>\n",
       "      <td>35</td>\n",
       "      <td>Munich</td>\n",
       "    </tr>\n",
       "  </tbody>\n",
       "</table>\n",
       "</div>"
      ],
      "text/plain": [
       "            age location\n",
       "10-12-2024   27   Munich\n",
       "10-12-2025   25   Berlin\n",
       "10-12-2026   30  Hamburg\n",
       "10-12-2027   35   Munich"
      ]
     },
     "execution_count": 174,
     "metadata": {},
     "output_type": "execute_result"
    }
   ],
   "source": [
    "df.drop('name', axis=1)"
   ]
  },
  {
   "cell_type": "code",
   "execution_count": 175,
   "id": "18f928fc",
   "metadata": {},
   "outputs": [
    {
     "data": {
      "text/html": [
       "<div>\n",
       "<style scoped>\n",
       "    .dataframe tbody tr th:only-of-type {\n",
       "        vertical-align: middle;\n",
       "    }\n",
       "\n",
       "    .dataframe tbody tr th {\n",
       "        vertical-align: top;\n",
       "    }\n",
       "\n",
       "    .dataframe thead th {\n",
       "        text-align: right;\n",
       "    }\n",
       "</style>\n",
       "<table border=\"1\" class=\"dataframe\">\n",
       "  <thead>\n",
       "    <tr style=\"text-align: right;\">\n",
       "      <th></th>\n",
       "      <th>age</th>\n",
       "      <th>location</th>\n",
       "    </tr>\n",
       "  </thead>\n",
       "  <tbody>\n",
       "    <tr>\n",
       "      <th>10-12-2024</th>\n",
       "      <td>27</td>\n",
       "      <td>Munich</td>\n",
       "    </tr>\n",
       "    <tr>\n",
       "      <th>10-12-2025</th>\n",
       "      <td>25</td>\n",
       "      <td>Berlin</td>\n",
       "    </tr>\n",
       "    <tr>\n",
       "      <th>10-12-2026</th>\n",
       "      <td>30</td>\n",
       "      <td>Hamburg</td>\n",
       "    </tr>\n",
       "    <tr>\n",
       "      <th>10-12-2027</th>\n",
       "      <td>35</td>\n",
       "      <td>Munich</td>\n",
       "    </tr>\n",
       "  </tbody>\n",
       "</table>\n",
       "</div>"
      ],
      "text/plain": [
       "            age location\n",
       "10-12-2024   27   Munich\n",
       "10-12-2025   25   Berlin\n",
       "10-12-2026   30  Hamburg\n",
       "10-12-2027   35   Munich"
      ]
     },
     "execution_count": 175,
     "metadata": {},
     "output_type": "execute_result"
    }
   ],
   "source": [
    "df.drop('name', axis='columns')"
   ]
  },
  {
   "cell_type": "code",
   "execution_count": 177,
   "id": "356a0415",
   "metadata": {},
   "outputs": [
    {
     "data": {
      "text/html": [
       "<div>\n",
       "<style scoped>\n",
       "    .dataframe tbody tr th:only-of-type {\n",
       "        vertical-align: middle;\n",
       "    }\n",
       "\n",
       "    .dataframe tbody tr th {\n",
       "        vertical-align: top;\n",
       "    }\n",
       "\n",
       "    .dataframe thead th {\n",
       "        text-align: right;\n",
       "    }\n",
       "</style>\n",
       "<table border=\"1\" class=\"dataframe\">\n",
       "  <thead>\n",
       "    <tr style=\"text-align: right;\">\n",
       "      <th></th>\n",
       "      <th>name</th>\n",
       "      <th>age</th>\n",
       "      <th>location</th>\n",
       "    </tr>\n",
       "  </thead>\n",
       "  <tbody>\n",
       "    <tr>\n",
       "      <th>10-12-2025</th>\n",
       "      <td>ABC</td>\n",
       "      <td>25</td>\n",
       "      <td>Berlin</td>\n",
       "    </tr>\n",
       "    <tr>\n",
       "      <th>10-12-2026</th>\n",
       "      <td>DEF</td>\n",
       "      <td>30</td>\n",
       "      <td>Hamburg</td>\n",
       "    </tr>\n",
       "  </tbody>\n",
       "</table>\n",
       "</div>"
      ],
      "text/plain": [
       "           name  age location\n",
       "10-12-2025  ABC   25   Berlin\n",
       "10-12-2026  DEF   30  Hamburg"
      ]
     },
     "execution_count": 177,
     "metadata": {},
     "output_type": "execute_result"
    }
   ],
   "source": [
    "df[1:3]"
   ]
  },
  {
   "cell_type": "code",
   "execution_count": 178,
   "id": "cf4264be",
   "metadata": {},
   "outputs": [
    {
     "data": {
      "text/plain": [
       "10-12-2024    27\n",
       "10-12-2025    25\n",
       "10-12-2026    30\n",
       "10-12-2027    35\n",
       "Name: age, dtype: int64"
      ]
     },
     "execution_count": 178,
     "metadata": {},
     "output_type": "execute_result"
    }
   ],
   "source": [
    "df.age"
   ]
  },
  {
   "cell_type": "code",
   "execution_count": 179,
   "id": "ea161ced",
   "metadata": {},
   "outputs": [
    {
     "data": {
      "text/plain": [
       "10-12-2024     Munich\n",
       "10-12-2025     Berlin\n",
       "10-12-2026    Hamburg\n",
       "10-12-2027     Munich\n",
       "Name: location, dtype: object"
      ]
     },
     "execution_count": 179,
     "metadata": {},
     "output_type": "execute_result"
    }
   ],
   "source": [
    "df.location"
   ]
  },
  {
   "cell_type": "code",
   "execution_count": 180,
   "id": "3b5f52de",
   "metadata": {},
   "outputs": [
    {
     "data": {
      "text/html": [
       "<div>\n",
       "<style scoped>\n",
       "    .dataframe tbody tr th:only-of-type {\n",
       "        vertical-align: middle;\n",
       "    }\n",
       "\n",
       "    .dataframe tbody tr th {\n",
       "        vertical-align: top;\n",
       "    }\n",
       "\n",
       "    .dataframe thead th {\n",
       "        text-align: right;\n",
       "    }\n",
       "</style>\n",
       "<table border=\"1\" class=\"dataframe\">\n",
       "  <thead>\n",
       "    <tr style=\"text-align: right;\">\n",
       "      <th></th>\n",
       "      <th>location</th>\n",
       "    </tr>\n",
       "  </thead>\n",
       "  <tbody>\n",
       "    <tr>\n",
       "      <th>10-12-2024</th>\n",
       "      <td>Munich</td>\n",
       "    </tr>\n",
       "    <tr>\n",
       "      <th>10-12-2025</th>\n",
       "      <td>Berlin</td>\n",
       "    </tr>\n",
       "    <tr>\n",
       "      <th>10-12-2026</th>\n",
       "      <td>Hamburg</td>\n",
       "    </tr>\n",
       "    <tr>\n",
       "      <th>10-12-2027</th>\n",
       "      <td>Munich</td>\n",
       "    </tr>\n",
       "  </tbody>\n",
       "</table>\n",
       "</div>"
      ],
      "text/plain": [
       "           location\n",
       "10-12-2024   Munich\n",
       "10-12-2025   Berlin\n",
       "10-12-2026  Hamburg\n",
       "10-12-2027   Munich"
      ]
     },
     "execution_count": 180,
     "metadata": {},
     "output_type": "execute_result"
    }
   ],
   "source": [
    "df[['location']]"
   ]
  },
  {
   "cell_type": "code",
   "execution_count": null,
   "id": "6318b309",
   "metadata": {},
   "outputs": [],
   "source": []
  }
 ],
 "metadata": {
  "kernelspec": {
   "display_name": "Python 3 (ipykernel)",
   "language": "python",
   "name": "python3"
  },
  "language_info": {
   "codemirror_mode": {
    "name": "ipython",
    "version": 3
   },
   "file_extension": ".py",
   "mimetype": "text/x-python",
   "name": "python",
   "nbconvert_exporter": "python",
   "pygments_lexer": "ipython3",
   "version": "3.13.5"
  }
 },
 "nbformat": 4,
 "nbformat_minor": 5
}
