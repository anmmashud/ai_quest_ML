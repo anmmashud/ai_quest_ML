{
 "cells": [
  {
   "cell_type": "markdown",
   "id": "65ad4d60",
   "metadata": {},
   "source": [
    "# Python Learning Resources\n",
    "\n",
    "## Official Python Tutorial\n",
    "The official Python documentation tutorial. It's a great place to start learning Python from scratch, covering all the basics and more.  \n",
    "[Official Python Tutorial](https://docs.python.org/3/tutorial/index.html)\n",
    "\n",
    "## 60 Days of Python - YouTube Playlist\n",
    "A comprehensive YouTube playlist designed to teach you Python, covering various topics to build your programming skills.  \n",
    "[60 Days of Python - YouTube Playlist](https://www.youtube.com/playlist?list=PLKdU0fuY4OFf7qj4eoBtvALAB_Ml2rN0V)\n",
    "\n",
    "## 60 Days of Python - GitHub Repository\n",
    "The GitHub repository for the 60 Days of Python series. It includes all the code and resources used in the YouTube playlist.  \n",
    "[60 Days of Python - GitHub Repository](https://github.com/rashakil-ds/60-Days-of-Python-by-Study-Mart-AI-QUEST)\n",
    "\n",
    "## Python Notes for Professionals - PDF\n",
    "A free PDF book that offers a wide range of Python notes for professionals. It's a useful reference guide for both beginners and advanced users.  \n",
    "[Python Notes for Professionals - PDF](https://drive.google.com/drive/u/6/folders/1ZKTuDrPRuxuhrs4MR7mwMHSz6C-DqjPj)\n"
   ]
  },
  {
   "cell_type": "markdown",
   "id": "1bbb5496",
   "metadata": {},
   "source": [
    "----------------------------------------------------------------------"
   ]
  },
  {
   "cell_type": "markdown",
   "id": "d17c8395",
   "metadata": {},
   "source": [
    "# Let's Talk About Python Language"
   ]
  },
  {
   "cell_type": "markdown",
   "id": "f84aef45",
   "metadata": {},
   "source": [
    "# Python Input/Output (I/O)\n",
    "\n",
    "Python provides numerous ways to handle input and output. This is essential for interacting with the user and for reading and writing data to and from files.\n",
    "\n",
    "## Input in Python\n",
    "\n",
    "To get input from the user, you can use the `input()` function. This function reads a line from the input (usually from the user), converts it to a string, and returns it.\n",
    "\n",
    "### Example:\n",
    "```python\n",
    "# Getting user input\n",
    "name = input(\"Enter your name: \") #ami input debo\n",
    "print(\"Hello, \" + name + \"!\") #computer output print korbe\n"
   ]
  },
  {
   "cell_type": "code",
   "execution_count": 1,
   "id": "205b2cfe",
   "metadata": {},
   "outputs": [
    {
     "name": "stdout",
     "output_type": "stream",
     "text": [
      "10\n"
     ]
    }
   ],
   "source": [
    "print(10) #SHIFT + ENTER"
   ]
  },
  {
   "cell_type": "code",
   "execution_count": 2,
   "id": "d58e5c4b",
   "metadata": {},
   "outputs": [
    {
     "name": "stdout",
     "output_type": "stream",
     "text": [
      "20\n"
     ]
    }
   ],
   "source": [
    "print(10+10)"
   ]
  },
  {
   "cell_type": "code",
   "execution_count": 3,
   "id": "1fa2e405",
   "metadata": {
    "scrolled": true
   },
   "outputs": [
    {
     "data": {
      "text/plain": [
       "20"
      ]
     },
     "execution_count": 3,
     "metadata": {},
     "output_type": "execute_result"
    }
   ],
   "source": [
    "10 + 10"
   ]
  },
  {
   "cell_type": "code",
   "execution_count": 1,
   "id": "e9d544e4",
   "metadata": {},
   "outputs": [
    {
     "name": "stdout",
     "output_type": "stream",
     "text": [
      "shakil abc || rashed\n"
     ]
    }
   ],
   "source": [
    "print('shakil' , 'abc' , sep=' ', end=' || ')\n",
    "print('rashed')"
   ]
  },
  {
   "cell_type": "code",
   "execution_count": 5,
   "id": "a7beacd8",
   "metadata": {},
   "outputs": [],
   "source": [
    "sums = 10 + 10"
   ]
  },
  {
   "cell_type": "code",
   "execution_count": 6,
   "id": "605b0cb5",
   "metadata": {},
   "outputs": [
    {
     "data": {
      "text/plain": [
       "20"
      ]
     },
     "execution_count": 6,
     "metadata": {},
     "output_type": "execute_result"
    }
   ],
   "source": [
    "sums"
   ]
  },
  {
   "cell_type": "code",
   "execution_count": 7,
   "id": "2b13fc93",
   "metadata": {},
   "outputs": [
    {
     "data": {
      "text/plain": [
       "30"
      ]
     },
     "execution_count": 7,
     "metadata": {},
     "output_type": "execute_result"
    }
   ],
   "source": [
    "sums+10"
   ]
  },
  {
   "cell_type": "code",
   "execution_count": 8,
   "id": "7d4eb379",
   "metadata": {
    "scrolled": true
   },
   "outputs": [
    {
     "data": {
      "text/plain": [
       "20"
      ]
     },
     "execution_count": 8,
     "metadata": {},
     "output_type": "execute_result"
    }
   ],
   "source": [
    "sums"
   ]
  },
  {
   "cell_type": "code",
   "execution_count": 9,
   "id": "c67f42b9",
   "metadata": {},
   "outputs": [],
   "source": [
    "sums = sums+10"
   ]
  },
  {
   "cell_type": "code",
   "execution_count": 10,
   "id": "2713e1fb",
   "metadata": {},
   "outputs": [
    {
     "data": {
      "text/plain": [
       "30"
      ]
     },
     "execution_count": 10,
     "metadata": {},
     "output_type": "execute_result"
    }
   ],
   "source": [
    "sums"
   ]
  },
  {
   "cell_type": "code",
   "execution_count": 11,
   "id": "ec265aba",
   "metadata": {},
   "outputs": [
    {
     "ename": "NameError",
     "evalue": "name 'Sums' is not defined",
     "output_type": "error",
     "traceback": [
      "\u001b[1;31m---------------------------------------------------------------------------\u001b[0m",
      "\u001b[1;31mNameError\u001b[0m                                 Traceback (most recent call last)",
      "\u001b[1;32m~\\AppData\\Local\\Temp\\ipykernel_11488\\817054834.py\u001b[0m in \u001b[0;36m<module>\u001b[1;34m\u001b[0m\n\u001b[1;32m----> 1\u001b[1;33m \u001b[0mSums\u001b[0m\u001b[1;33m\u001b[0m\u001b[1;33m\u001b[0m\u001b[0m\n\u001b[0m",
      "\u001b[1;31mNameError\u001b[0m: name 'Sums' is not defined"
     ]
    }
   ],
   "source": [
    "Sums"
   ]
  },
  {
   "cell_type": "markdown",
   "id": "d3723c1b",
   "metadata": {},
   "source": [
    "# Python Variables\n",
    "\n",
    "## What is a Variable?\n",
    "Variables are like a container for storing data. Compares to other programming languages, Python has no command for declaring a variable. A variable is created the moment you first assign a value to it.\n",
    "\n",
    "## Variable Naming Rules\n",
    "When naming variables in Python, there are a few rules to keep in mind:\n",
    "1. **Variable names must start with a letter or the underscore character**.\n",
    "2. **A variable name cannot start with a number**.\n",
    "3. **Variable names can only contain alpha-numeric characters and underscores (A-z, 0-9, and _ )**.\n",
    "4. **Variable names are case-sensitive (age, Age, and AGE are three different variables)**.\n",
    "5. **Reserved words (keywords) cannot be used as variable names**.\n",
    "\n",
    "## Creating Variables\n",
    "In Python, a variable is created the moment you first assign a value to it. Unlike other programming languages, you don't need to declare the type of the variable.\n",
    "\n",
    "### Example:\n",
    "```python\n",
    "x = 5\n",
    "y = \"Hello, aiQuest Intelligence!\"\n"
   ]
  },
  {
   "cell_type": "code",
   "execution_count": 12,
   "id": "cb135921",
   "metadata": {},
   "outputs": [
    {
     "data": {
      "text/plain": [
       "30"
      ]
     },
     "execution_count": 12,
     "metadata": {},
     "output_type": "execute_result"
    }
   ],
   "source": [
    "x = 10\n",
    "y = 20\n",
    "x+y"
   ]
  },
  {
   "cell_type": "code",
   "execution_count": 13,
   "id": "f6872d59",
   "metadata": {},
   "outputs": [
    {
     "name": "stdout",
     "output_type": "stream",
     "text": [
      "30\n"
     ]
    }
   ],
   "source": [
    "print(x+y)"
   ]
  },
  {
   "cell_type": "code",
   "execution_count": 14,
   "id": "716d9011",
   "metadata": {},
   "outputs": [
    {
     "ename": "NameError",
     "evalue": "name 'X' is not defined",
     "output_type": "error",
     "traceback": [
      "\u001b[1;31m---------------------------------------------------------------------------\u001b[0m",
      "\u001b[1;31mNameError\u001b[0m                                 Traceback (most recent call last)",
      "\u001b[1;32m~\\AppData\\Local\\Temp\\ipykernel_11488\\3777217377.py\u001b[0m in \u001b[0;36m<module>\u001b[1;34m\u001b[0m\n\u001b[1;32m----> 1\u001b[1;33m \u001b[0mX\u001b[0m\u001b[1;33m\u001b[0m\u001b[1;33m\u001b[0m\u001b[0m\n\u001b[0m",
      "\u001b[1;31mNameError\u001b[0m: name 'X' is not defined"
     ]
    }
   ],
   "source": [
    "X"
   ]
  },
  {
   "cell_type": "code",
   "execution_count": 15,
   "id": "6a7ac181",
   "metadata": {},
   "outputs": [],
   "source": [
    "name = ['shakil','fuad','arif']"
   ]
  },
  {
   "cell_type": "code",
   "execution_count": 16,
   "id": "2a253b99",
   "metadata": {},
   "outputs": [
    {
     "data": {
      "text/plain": [
       "['shakil', 'fuad', 'arif']"
      ]
     },
     "execution_count": 16,
     "metadata": {},
     "output_type": "execute_result"
    }
   ],
   "source": [
    "name"
   ]
  },
  {
   "cell_type": "code",
   "execution_count": 17,
   "id": "acb698a2",
   "metadata": {},
   "outputs": [
    {
     "ename": "SyntaxError",
     "evalue": "invalid syntax (340908270.py, line 1)",
     "output_type": "error",
     "traceback": [
      "\u001b[1;36m  File \u001b[1;32m\"C:\\Users\\rashe\\AppData\\Local\\Temp\\ipykernel_11488\\340908270.py\"\u001b[1;36m, line \u001b[1;32m1\u001b[0m\n\u001b[1;33m    student name = ['shakil','fuad','arif']\u001b[0m\n\u001b[1;37m            ^\u001b[0m\n\u001b[1;31mSyntaxError\u001b[0m\u001b[1;31m:\u001b[0m invalid syntax\n"
     ]
    }
   ],
   "source": [
    "student name = ['shakil','fuad','arif']"
   ]
  },
  {
   "cell_type": "code",
   "execution_count": 18,
   "id": "1606fa5e",
   "metadata": {},
   "outputs": [],
   "source": [
    "x = ['shakil','fuad','arif']"
   ]
  },
  {
   "cell_type": "code",
   "execution_count": 19,
   "id": "1c021738",
   "metadata": {},
   "outputs": [
    {
     "data": {
      "text/plain": [
       "['shakil', 'fuad', 'arif']"
      ]
     },
     "execution_count": 19,
     "metadata": {},
     "output_type": "execute_result"
    }
   ],
   "source": [
    "x"
   ]
  },
  {
   "cell_type": "code",
   "execution_count": 20,
   "id": "d8a044bf",
   "metadata": {},
   "outputs": [
    {
     "ename": "SyntaxError",
     "evalue": "cannot assign to operator (1847784144.py, line 1)",
     "output_type": "error",
     "traceback": [
      "\u001b[1;36m  File \u001b[1;32m\"C:\\Users\\rashe\\AppData\\Local\\Temp\\ipykernel_11488\\1847784144.py\"\u001b[1;36m, line \u001b[1;32m1\u001b[0m\n\u001b[1;33m    student-name = ['shakil','fuad','arif']\u001b[0m\n\u001b[1;37m    ^\u001b[0m\n\u001b[1;31mSyntaxError\u001b[0m\u001b[1;31m:\u001b[0m cannot assign to operator\n"
     ]
    }
   ],
   "source": [
    "student-name = ['shakil','fuad','arif']"
   ]
  },
  {
   "cell_type": "code",
   "execution_count": 21,
   "id": "8d7bce41",
   "metadata": {},
   "outputs": [],
   "source": [
    "student_name = ['shakil','fuad','arif']"
   ]
  },
  {
   "cell_type": "code",
   "execution_count": 22,
   "id": "8c6ba2df",
   "metadata": {
    "scrolled": true
   },
   "outputs": [
    {
     "data": {
      "text/plain": [
       "['shakil', 'fuad', 'arif']"
      ]
     },
     "execution_count": 22,
     "metadata": {},
     "output_type": "execute_result"
    }
   ],
   "source": [
    "student_name"
   ]
  },
  {
   "cell_type": "code",
   "execution_count": 23,
   "id": "db6461c8",
   "metadata": {},
   "outputs": [
    {
     "ename": "SyntaxError",
     "evalue": "invalid syntax (3011559306.py, line 1)",
     "output_type": "error",
     "traceback": [
      "\u001b[1;36m  File \u001b[1;32m\"C:\\Users\\rashe\\AppData\\Local\\Temp\\ipykernel_11488\\3011559306.py\"\u001b[1;36m, line \u001b[1;32m1\u001b[0m\n\u001b[1;33m    10student_name = ['shakil','fuad','arif']\u001b[0m\n\u001b[1;37m      ^\u001b[0m\n\u001b[1;31mSyntaxError\u001b[0m\u001b[1;31m:\u001b[0m invalid syntax\n"
     ]
    }
   ],
   "source": [
    "10student_name = ['shakil','fuad','arif']"
   ]
  },
  {
   "cell_type": "code",
   "execution_count": 24,
   "id": "caa28a38",
   "metadata": {},
   "outputs": [],
   "source": [
    "student_name10 = ['shakil','fuad','arif']"
   ]
  },
  {
   "cell_type": "code",
   "execution_count": 25,
   "id": "e4209dad",
   "metadata": {},
   "outputs": [
    {
     "data": {
      "text/plain": [
       "['shakil', 'fuad', 'arif']"
      ]
     },
     "execution_count": 25,
     "metadata": {},
     "output_type": "execute_result"
    }
   ],
   "source": [
    "student_name10"
   ]
  },
  {
   "cell_type": "code",
   "execution_count": 26,
   "id": "1ca545fe",
   "metadata": {},
   "outputs": [
    {
     "ename": "SyntaxError",
     "evalue": "cannot assign to operator (1837072073.py, line 1)",
     "output_type": "error",
     "traceback": [
      "\u001b[1;36m  File \u001b[1;32m\"C:\\Users\\rashe\\AppData\\Local\\Temp\\ipykernel_11488\\1837072073.py\"\u001b[1;36m, line \u001b[1;32m1\u001b[0m\n\u001b[1;33m    student*name = ['shakil','fuad','arif']\u001b[0m\n\u001b[1;37m    ^\u001b[0m\n\u001b[1;31mSyntaxError\u001b[0m\u001b[1;31m:\u001b[0m cannot assign to operator\n"
     ]
    }
   ],
   "source": [
    "student*name = ['shakil','fuad','arif']"
   ]
  },
  {
   "cell_type": "code",
   "execution_count": 27,
   "id": "26ffef4b",
   "metadata": {},
   "outputs": [
    {
     "ename": "SyntaxError",
     "evalue": "cannot assign to operator (2973077501.py, line 1)",
     "output_type": "error",
     "traceback": [
      "\u001b[1;36m  File \u001b[1;32m\"C:\\Users\\rashe\\AppData\\Local\\Temp\\ipykernel_11488\\2973077501.py\"\u001b[1;36m, line \u001b[1;32m1\u001b[0m\n\u001b[1;33m    student&name = ['shakil','fuad','arif']\u001b[0m\n\u001b[1;37m    ^\u001b[0m\n\u001b[1;31mSyntaxError\u001b[0m\u001b[1;31m:\u001b[0m cannot assign to operator\n"
     ]
    }
   ],
   "source": [
    "student&name = ['shakil','fuad','arif']"
   ]
  },
  {
   "cell_type": "code",
   "execution_count": 28,
   "id": "54726520",
   "metadata": {},
   "outputs": [],
   "source": [
    "students_name = ['abc']\n",
    "emp_salary = [10,29]"
   ]
  },
  {
   "cell_type": "code",
   "execution_count": 29,
   "id": "ba9c9b8c",
   "metadata": {},
   "outputs": [
    {
     "ename": "SyntaxError",
     "evalue": "invalid syntax (282766309.py, line 1)",
     "output_type": "error",
     "traceback": [
      "\u001b[1;36m  File \u001b[1;32m\"C:\\Users\\rashe\\AppData\\Local\\Temp\\ipykernel_11488\\282766309.py\"\u001b[1;36m, line \u001b[1;32m1\u001b[0m\n\u001b[1;33m    studentname =\u001b[0m\n\u001b[1;37m                  ^\u001b[0m\n\u001b[1;31mSyntaxError\u001b[0m\u001b[1;31m:\u001b[0m invalid syntax\n"
     ]
    }
   ],
   "source": [
    "studentname = "
   ]
  },
  {
   "cell_type": "code",
   "execution_count": 30,
   "id": "06195cf1",
   "metadata": {},
   "outputs": [
    {
     "ename": "NameError",
     "evalue": "name 'students_name_details' is not defined",
     "output_type": "error",
     "traceback": [
      "\u001b[1;31m---------------------------------------------------------------------------\u001b[0m",
      "\u001b[1;31mNameError\u001b[0m                                 Traceback (most recent call last)",
      "\u001b[1;32m~\\AppData\\Local\\Temp\\ipykernel_11488\\3029772558.py\u001b[0m in \u001b[0;36m<module>\u001b[1;34m\u001b[0m\n\u001b[1;32m----> 1\u001b[1;33m \u001b[0mstudents_name_details\u001b[0m\u001b[1;33m\u001b[0m\u001b[1;33m\u001b[0m\u001b[0m\n\u001b[0m",
      "\u001b[1;31mNameError\u001b[0m: name 'students_name_details' is not defined"
     ]
    }
   ],
   "source": [
    "students_name_details"
   ]
  },
  {
   "cell_type": "code",
   "execution_count": 31,
   "id": "b6d5f28e",
   "metadata": {},
   "outputs": [
    {
     "ename": "NameError",
     "evalue": "name 'StudentName' is not defined",
     "output_type": "error",
     "traceback": [
      "\u001b[1;31m---------------------------------------------------------------------------\u001b[0m",
      "\u001b[1;31mNameError\u001b[0m                                 Traceback (most recent call last)",
      "\u001b[1;32m~\\AppData\\Local\\Temp\\ipykernel_11488\\2532519943.py\u001b[0m in \u001b[0;36m<module>\u001b[1;34m\u001b[0m\n\u001b[1;32m----> 1\u001b[1;33m \u001b[0mStudentName\u001b[0m\u001b[1;33m\u001b[0m\u001b[1;33m\u001b[0m\u001b[0m\n\u001b[0m",
      "\u001b[1;31mNameError\u001b[0m: name 'StudentName' is not defined"
     ]
    }
   ],
   "source": [
    "StudentName"
   ]
  },
  {
   "cell_type": "markdown",
   "id": "e00dc6f0",
   "metadata": {},
   "source": [
    "# Multi-Word Variable Names in Python\n",
    "\n",
    "When naming variables that consist of multiple words, it's important to follow certain conventions to ensure readability and maintainability of your code. Here are the common conventions used in Python:\n",
    "\n",
    "## 1. Snake Case\n",
    "Snake case is the most common naming convention in Python. In this style, words are separated by underscores (`_`), and all letters are lowercase.\n",
    "\n",
    "### Example:\n",
    "```python\n",
    "first_name = \"Rashedul Alam\"\n",
    "last_name = \"Shakil\"\n",
    "user_age = 27\n"
   ]
  },
  {
   "cell_type": "code",
   "execution_count": 32,
   "id": "4464348a",
   "metadata": {},
   "outputs": [],
   "source": [
    "first_name = \"Rashedul Alam\"\n",
    "last_name = \"Shakil\"\n",
    "user_age = 27"
   ]
  },
  {
   "cell_type": "code",
   "execution_count": 33,
   "id": "942e6df8",
   "metadata": {},
   "outputs": [
    {
     "data": {
      "text/plain": [
       "27"
      ]
     },
     "execution_count": 33,
     "metadata": {},
     "output_type": "execute_result"
    }
   ],
   "source": [
    "user_age"
   ]
  },
  {
   "cell_type": "markdown",
   "id": "ad5505db",
   "metadata": {},
   "source": [
    "## 2. Camel Case\n",
    "Camel Case is a naming convention where the first letter of the first word is lowercase, and the first letter of each subsequent concatenated word is capitalized. This convention is commonly used in many programming languages but is less common for variable names in Python.\n",
    "\n",
    "### Example:\n",
    "```python\n",
    "firstName = \"Rashedul Alam\"\n",
    "lastName = \"Shakil\"\n",
    "userAge = 27\n"
   ]
  },
  {
   "cell_type": "code",
   "execution_count": 34,
   "id": "f7888577",
   "metadata": {},
   "outputs": [],
   "source": [
    "firstName = \"Rashedul Alam\"\n",
    "lastName = \"Shakil\"\n",
    "userAge = 27"
   ]
  },
  {
   "cell_type": "code",
   "execution_count": 35,
   "id": "4fa8ed30",
   "metadata": {},
   "outputs": [
    {
     "data": {
      "text/plain": [
       "'Rashedul Alam'"
      ]
     },
     "execution_count": 35,
     "metadata": {},
     "output_type": "execute_result"
    }
   ],
   "source": [
    "firstName"
   ]
  },
  {
   "cell_type": "markdown",
   "id": "9c5baf39",
   "metadata": {},
   "source": [
    "## 3. Pascal Case in Python\n",
    "\n",
    "Pascal Case is similar to Camel Case, but with Pascal Case, the first letter of every word is capitalized, including the first word. This helps in distinguishing class names from variable names, which typically use Snake Case in Python.\n",
    "\n",
    "### Example:\n",
    "```python\n",
    "FirstName = \"Rashedul Alam\"\n",
    "LastName = \"Shakil\"\n",
    "UserAge = 27\n"
   ]
  },
  {
   "cell_type": "code",
   "execution_count": 36,
   "id": "4e559e0f",
   "metadata": {},
   "outputs": [],
   "source": [
    "FirstName = \"Rashedul Alam\"\n",
    "LastName = \"Shakil\"\n",
    "UserAge = 27"
   ]
  },
  {
   "cell_type": "code",
   "execution_count": 37,
   "id": "03d5f0b2",
   "metadata": {},
   "outputs": [
    {
     "data": {
      "text/plain": [
       "'Shakil'"
      ]
     },
     "execution_count": 37,
     "metadata": {},
     "output_type": "execute_result"
    }
   ],
   "source": [
    "LastName"
   ]
  },
  {
   "cell_type": "code",
   "execution_count": null,
   "id": "74247629",
   "metadata": {},
   "outputs": [],
   "source": []
  },
  {
   "cell_type": "markdown",
   "id": "38860cd0",
   "metadata": {},
   "source": [
    "# Local Vs. Global Variables"
   ]
  },
  {
   "cell_type": "markdown",
   "id": "09b73603",
   "metadata": {},
   "source": [
    "1. Global Variable: Variables that are created outside of a function are known as global variables. Global variables can be used by everyone, both inside of functions and outside. <br>\n",
    " \n",
    "2. Local Variable: Variables that are created inside of a function are known as local variables. local variables can be used inside of the function.\n"
   ]
  },
  {
   "cell_type": "code",
   "execution_count": 38,
   "id": "cbb2704f",
   "metadata": {},
   "outputs": [],
   "source": [
    "x = 11"
   ]
  },
  {
   "cell_type": "code",
   "execution_count": 39,
   "id": "c1264aac",
   "metadata": {},
   "outputs": [],
   "source": [
    "def abc1():\n",
    "    \n",
    "    a=1\n",
    "    b=2\n",
    "    ans=a+b+x\n",
    "    \n",
    "    return ans"
   ]
  },
  {
   "cell_type": "code",
   "execution_count": 40,
   "id": "6b807a31",
   "metadata": {},
   "outputs": [
    {
     "data": {
      "text/plain": [
       "14"
      ]
     },
     "execution_count": 40,
     "metadata": {},
     "output_type": "execute_result"
    }
   ],
   "source": [
    "abc1()"
   ]
  },
  {
   "cell_type": "code",
   "execution_count": 41,
   "id": "79c3527a",
   "metadata": {},
   "outputs": [
    {
     "data": {
      "text/plain": [
       "11"
      ]
     },
     "execution_count": 41,
     "metadata": {},
     "output_type": "execute_result"
    }
   ],
   "source": [
    "x"
   ]
  },
  {
   "cell_type": "code",
   "execution_count": 42,
   "id": "2c989902",
   "metadata": {},
   "outputs": [
    {
     "ename": "NameError",
     "evalue": "name 'a' is not defined",
     "output_type": "error",
     "traceback": [
      "\u001b[1;31m---------------------------------------------------------------------------\u001b[0m",
      "\u001b[1;31mNameError\u001b[0m                                 Traceback (most recent call last)",
      "\u001b[1;32m~\\AppData\\Local\\Temp\\ipykernel_11488\\2167009006.py\u001b[0m in \u001b[0;36m<module>\u001b[1;34m\u001b[0m\n\u001b[1;32m----> 1\u001b[1;33m \u001b[0ma\u001b[0m\u001b[1;33m\u001b[0m\u001b[1;33m\u001b[0m\u001b[0m\n\u001b[0m",
      "\u001b[1;31mNameError\u001b[0m: name 'a' is not defined"
     ]
    }
   ],
   "source": [
    "a"
   ]
  },
  {
   "cell_type": "code",
   "execution_count": 43,
   "id": "7b13659d",
   "metadata": {},
   "outputs": [
    {
     "ename": "NameError",
     "evalue": "name 'b' is not defined",
     "output_type": "error",
     "traceback": [
      "\u001b[1;31m---------------------------------------------------------------------------\u001b[0m",
      "\u001b[1;31mNameError\u001b[0m                                 Traceback (most recent call last)",
      "\u001b[1;32m~\\AppData\\Local\\Temp\\ipykernel_11488\\1685013873.py\u001b[0m in \u001b[0;36m<module>\u001b[1;34m\u001b[0m\n\u001b[1;32m----> 1\u001b[1;33m \u001b[0mb\u001b[0m\u001b[1;33m\u001b[0m\u001b[1;33m\u001b[0m\u001b[0m\n\u001b[0m",
      "\u001b[1;31mNameError\u001b[0m: name 'b' is not defined"
     ]
    }
   ],
   "source": [
    "b"
   ]
  },
  {
   "cell_type": "code",
   "execution_count": 44,
   "id": "2b2b38e9",
   "metadata": {},
   "outputs": [],
   "source": [
    "def abc1():\n",
    "    \n",
    "    global a\n",
    "    a=1\n",
    "    b=2\n",
    "    ans=a+b+x\n",
    "    \n",
    "    return ans"
   ]
  },
  {
   "cell_type": "code",
   "execution_count": 45,
   "id": "205ff4ec",
   "metadata": {},
   "outputs": [
    {
     "ename": "NameError",
     "evalue": "name 'a' is not defined",
     "output_type": "error",
     "traceback": [
      "\u001b[1;31m---------------------------------------------------------------------------\u001b[0m",
      "\u001b[1;31mNameError\u001b[0m                                 Traceback (most recent call last)",
      "\u001b[1;32m~\\AppData\\Local\\Temp\\ipykernel_11488\\2167009006.py\u001b[0m in \u001b[0;36m<module>\u001b[1;34m\u001b[0m\n\u001b[1;32m----> 1\u001b[1;33m \u001b[0ma\u001b[0m\u001b[1;33m\u001b[0m\u001b[1;33m\u001b[0m\u001b[0m\n\u001b[0m",
      "\u001b[1;31mNameError\u001b[0m: name 'a' is not defined"
     ]
    }
   ],
   "source": [
    "a"
   ]
  },
  {
   "cell_type": "code",
   "execution_count": 68,
   "id": "c748afdc",
   "metadata": {},
   "outputs": [],
   "source": [
    "def abc1():\n",
    "    \n",
    "    global a\n",
    "    a=1\n",
    "    b=2\n",
    "    ans=a+b+x\n",
    "    print(ans)"
   ]
  },
  {
   "cell_type": "markdown",
   "id": "49f7f7f8",
   "metadata": {},
   "source": [
    "# All about Python Strings"
   ]
  },
  {
   "cell_type": "markdown",
   "id": "91504be3",
   "metadata": {},
   "source": [
    "# All About Python Strings\n",
    "\n",
    "## Introduction\n",
    "Strings in Python are sequences of characters enclosed in quotes. They are one of the most commonly used data types in Python, allowing you to work with text data.\n",
    "\n",
    "## Creating Strings\n",
    "You can create a string in Python by enclosing characters in either single quotes `'`, double quotes `\"`, or triple quotes `'''` or `\"\"\"`.\n",
    "\n",
    "### Examples:\n",
    "```python\n",
    "single_quote_string = 'Hello'\n",
    "double_quote_string = \"World\"\n",
    "triple_quote_string = '''This is a\n",
    "multi-line string.'''\n",
    "another_triple_quote_string = \"\"\"This is also a\n",
    "multi-line string.\"\"\"\n"
   ]
  },
  {
   "cell_type": "code",
   "execution_count": 69,
   "id": "af758937",
   "metadata": {},
   "outputs": [
    {
     "data": {
      "text/plain": [
       "'hello'"
      ]
     },
     "execution_count": 69,
     "metadata": {},
     "output_type": "execute_result"
    }
   ],
   "source": [
    "'hello'"
   ]
  },
  {
   "cell_type": "code",
   "execution_count": 70,
   "id": "8d4d8c12",
   "metadata": {
    "scrolled": true
   },
   "outputs": [
    {
     "data": {
      "text/plain": [
       "str"
      ]
     },
     "execution_count": 70,
     "metadata": {},
     "output_type": "execute_result"
    }
   ],
   "source": [
    "type('hello')"
   ]
  },
  {
   "cell_type": "code",
   "execution_count": 71,
   "id": "f2221815",
   "metadata": {},
   "outputs": [
    {
     "data": {
      "text/plain": [
       "int"
      ]
     },
     "execution_count": 71,
     "metadata": {},
     "output_type": "execute_result"
    }
   ],
   "source": [
    "type(10)"
   ]
  },
  {
   "cell_type": "code",
   "execution_count": 72,
   "id": "30d27b0e",
   "metadata": {},
   "outputs": [
    {
     "data": {
      "text/plain": [
       "float"
      ]
     },
     "execution_count": 72,
     "metadata": {},
     "output_type": "execute_result"
    }
   ],
   "source": [
    "type(10.5)"
   ]
  },
  {
   "cell_type": "code",
   "execution_count": 73,
   "id": "0ced6827",
   "metadata": {},
   "outputs": [
    {
     "ename": "NameError",
     "evalue": "name 'hello' is not defined",
     "output_type": "error",
     "traceback": [
      "\u001b[1;31m---------------------------------------------------------------------------\u001b[0m",
      "\u001b[1;31mNameError\u001b[0m                                 Traceback (most recent call last)",
      "\u001b[1;32m~\\AppData\\Local\\Temp\\ipykernel_11488\\3305111549.py\u001b[0m in \u001b[0;36m<module>\u001b[1;34m\u001b[0m\n\u001b[1;32m----> 1\u001b[1;33m \u001b[0mhello\u001b[0m\u001b[1;33m\u001b[0m\u001b[1;33m\u001b[0m\u001b[0m\n\u001b[0m",
      "\u001b[1;31mNameError\u001b[0m: name 'hello' is not defined"
     ]
    }
   ],
   "source": [
    "hello"
   ]
  },
  {
   "cell_type": "code",
   "execution_count": 74,
   "id": "3aea19f9",
   "metadata": {},
   "outputs": [
    {
     "data": {
      "text/plain": [
       "'hello'"
      ]
     },
     "execution_count": 74,
     "metadata": {},
     "output_type": "execute_result"
    }
   ],
   "source": [
    "\"hello\""
   ]
  },
  {
   "cell_type": "code",
   "execution_count": 75,
   "id": "18f2d114",
   "metadata": {},
   "outputs": [
    {
     "data": {
      "text/plain": [
       "'hello'"
      ]
     },
     "execution_count": 75,
     "metadata": {},
     "output_type": "execute_result"
    }
   ],
   "source": [
    "'''hello'''"
   ]
  },
  {
   "cell_type": "markdown",
   "id": "73e8bad6",
   "metadata": {},
   "source": [
    "# Common String Methods in Python\n",
    "\n",
    "## String Methods\n",
    "\n",
    "- `capitalize()`\n",
    "- `casefold()`\n",
    "- `center()`\n",
    "- `count()`\n",
    "- `encode()`\n",
    "- `endswith()`\n",
    "- `expandtabs()`\n",
    "- `find()`\n",
    "- `format()`\n",
    "- `format_map()`\n",
    "- `index()`\n",
    "- `isalnum()`\n",
    "- `isalpha()`\n",
    "- `isascii()`\n",
    "- `isdecimal()`\n",
    "- `isdigit()`\n",
    "- `isidentifier()`\n",
    "- `islower()`\n",
    "- `isnumeric()`\n",
    "- `isprintable()`\n",
    "- `isspace()`\n",
    "- `istitle()`\n",
    "- `isupper()`\n",
    "- `join()`\n",
    "- `ljust()`\n",
    "- `lower()`\n",
    "- `lstrip()`\n",
    "- `maketrans()`\n",
    "- `partition()`\n",
    "- `replace()`\n",
    "- `rfind()`\n",
    "- `rindex()`\n",
    "- `rjust()`\n",
    "- `rpartition()`\n",
    "- `rsplit()`\n",
    "- `rstrip()`\n",
    "- `split()`\n",
    "- `splitlines()`\n",
    "- `startswith()`\n",
    "- `strip()`\n",
    "- `swapcase()`\n",
    "- `title()`\n",
    "- `translate()`\n",
    "- `upper()`\n",
    "- `zfill()`\n",
    "\n",
    "These methods provide various ways to manipulate and handle strings in Python, allowing for extensive text processing and formatting capabilities.\n"
   ]
  },
  {
   "cell_type": "code",
   "execution_count": 76,
   "id": "14b8e6fb",
   "metadata": {},
   "outputs": [],
   "source": [
    "name = 'Data SCience'"
   ]
  },
  {
   "cell_type": "code",
   "execution_count": 77,
   "id": "e1d362cb",
   "metadata": {},
   "outputs": [
    {
     "data": {
      "text/plain": [
       "'data science'"
      ]
     },
     "execution_count": 77,
     "metadata": {},
     "output_type": "execute_result"
    }
   ],
   "source": [
    "name.lower()"
   ]
  },
  {
   "cell_type": "code",
   "execution_count": 78,
   "id": "a98827dd",
   "metadata": {},
   "outputs": [
    {
     "data": {
      "text/plain": [
       "'DATA SCIENCE'"
      ]
     },
     "execution_count": 78,
     "metadata": {},
     "output_type": "execute_result"
    }
   ],
   "source": [
    "name.upper()"
   ]
  },
  {
   "cell_type": "code",
   "execution_count": 79,
   "id": "320e2837",
   "metadata": {},
   "outputs": [
    {
     "data": {
      "text/plain": [
       "'Data science'"
      ]
     },
     "execution_count": 79,
     "metadata": {},
     "output_type": "execute_result"
    }
   ],
   "source": [
    "name.capitalize()"
   ]
  },
  {
   "cell_type": "code",
   "execution_count": 80,
   "id": "b12afac0",
   "metadata": {},
   "outputs": [
    {
     "data": {
      "text/plain": [
       "['Data', 'SCience']"
      ]
     },
     "execution_count": 80,
     "metadata": {},
     "output_type": "execute_result"
    }
   ],
   "source": [
    "name.split()"
   ]
  },
  {
   "cell_type": "code",
   "execution_count": null,
   "id": "daf6d8de",
   "metadata": {},
   "outputs": [],
   "source": []
  },
  {
   "cell_type": "markdown",
   "id": "f8d3ada2",
   "metadata": {},
   "source": [
    "# Staring Formating"
   ]
  },
  {
   "cell_type": "markdown",
   "id": "45909508",
   "metadata": {},
   "source": [
    "# String Formatting in Python\n",
    "\n",
    "String formatting in Python allows you to create formatted strings by embedding values and expressions into string literals. There are several ways to format strings in Python:\n",
    "\n",
    "## 1. Using the `%` Operator\n",
    "The `%` operator (also known as the printf operator) allows you to format strings using placeholders.\n",
    "\n",
    "### Example:\n",
    "```python\n",
    "name = \"Shakil\"\n",
    "age = 27\n",
    "formatted_string = \"My name is %s and I am %d years old.\" % (name, age)\n",
    "print(formatted_string)  # Output: My name is Shakil and I am 27 years old.\n"
   ]
  },
  {
   "cell_type": "code",
   "execution_count": 81,
   "id": "3ded707c",
   "metadata": {},
   "outputs": [
    {
     "name": "stdout",
     "output_type": "stream",
     "text": [
      "My age is 27. I am 27 years old \n"
     ]
    }
   ],
   "source": [
    "name = \"Rashedul Alam Shakil\"\n",
    "age = 27\n",
    "\n",
    "print('My age is {}. I am 27 years old '.format(age))\n"
   ]
  },
  {
   "cell_type": "code",
   "execution_count": 82,
   "id": "15260c49",
   "metadata": {},
   "outputs": [
    {
     "name": "stdout",
     "output_type": "stream",
     "text": [
      "my age is 27 years\n"
     ]
    }
   ],
   "source": [
    "print('my age is', age, 'years')"
   ]
  },
  {
   "cell_type": "code",
   "execution_count": 83,
   "id": "bb294c8d",
   "metadata": {},
   "outputs": [
    {
     "name": "stdout",
     "output_type": "stream",
     "text": [
      "My name is Rashedul Alam Shakil and I am 27 years old.\n"
     ]
    }
   ],
   "source": [
    "print(f\"My name is {name} and I am {age} years old.\") #f-strings are faster and more readable. you can follow this."
   ]
  },
  {
   "cell_type": "code",
   "execution_count": 84,
   "id": "9dd3917c",
   "metadata": {},
   "outputs": [
    {
     "name": "stdout",
     "output_type": "stream",
     "text": [
      "In two years, I will be 29 years old.\n"
     ]
    }
   ],
   "source": [
    "print(f\"In two years, I will be {age + 2} years old.\")"
   ]
  },
  {
   "cell_type": "code",
   "execution_count": null,
   "id": "d47213ae",
   "metadata": {},
   "outputs": [],
   "source": []
  },
  {
   "cell_type": "code",
   "execution_count": null,
   "id": "e805d711",
   "metadata": {},
   "outputs": [],
   "source": []
  },
  {
   "cell_type": "markdown",
   "id": "d11e067c",
   "metadata": {},
   "source": [
    "# If-Else Statements"
   ]
  },
  {
   "cell_type": "markdown",
   "id": "4d0189bc",
   "metadata": {},
   "source": [
    "# If-Else Statements in Python\n",
    "\n",
    "## Introduction\n",
    "If-else statements in Python are used to execute a block of code based on a condition. If the condition is true, a certain block of code is executed. If the condition is false, an alternative block of code can be executed.\n",
    "\n",
    "## Syntax\n",
    "The basic syntax of an if-else statement is:\n",
    "```python\n",
    "if condition:\n",
    "    # code block to execute if condition is true\n",
    "else:\n",
    "    # code block to execute if condition is false\n"
   ]
  },
  {
   "cell_type": "code",
   "execution_count": 85,
   "id": "1e92c977",
   "metadata": {},
   "outputs": [
    {
     "name": "stdout",
     "output_type": "stream",
     "text": [
      "13\n"
     ]
    }
   ],
   "source": [
    "abc1()"
   ]
  },
  {
   "cell_type": "code",
   "execution_count": 86,
   "id": "3ca001fe",
   "metadata": {},
   "outputs": [
    {
     "name": "stdout",
     "output_type": "stream",
     "text": [
      "35\n",
      "ok!\n"
     ]
    }
   ],
   "source": [
    "x = 10\n",
    "y = 20\n",
    "z = 15\n",
    "\n",
    "if x>y:\n",
    "    print(x+y)\n",
    "elif y>x:\n",
    "    print(y+z)\n",
    "    print('ok!')\n",
    "else:\n",
    "    print('Nothing!')"
   ]
  },
  {
   "cell_type": "code",
   "execution_count": 87,
   "id": "e3fd1fe0",
   "metadata": {},
   "outputs": [
    {
     "name": "stdout",
     "output_type": "stream",
     "text": [
      "Nothing!\n",
      "13\n"
     ]
    }
   ],
   "source": [
    "x = 10\n",
    "y = 10\n",
    "z = 15\n",
    "\n",
    "if x>y:\n",
    "    print(x+y)\n",
    "elif y>x:\n",
    "    print(y+z)\n",
    "    print('ok!')\n",
    "else:\n",
    "    print('Nothing!')\n",
    "    abc1()"
   ]
  },
  {
   "cell_type": "code",
   "execution_count": 88,
   "id": "e1c034c6",
   "metadata": {},
   "outputs": [
    {
     "name": "stdout",
     "output_type": "stream",
     "text": [
      "13\n"
     ]
    }
   ],
   "source": [
    "x = 10\n",
    "y = 10\n",
    "z = 15\n",
    "\n",
    "if x>y:\n",
    "    print(x+y)\n",
    "elif y>x:\n",
    "    print(y+z)\n",
    "    print('ok!')\n",
    "else:\n",
    "    abc1()"
   ]
  },
  {
   "cell_type": "code",
   "execution_count": 89,
   "id": "4898de0d",
   "metadata": {},
   "outputs": [
    {
     "name": "stdout",
     "output_type": "stream",
     "text": [
      "13\n"
     ]
    }
   ],
   "source": [
    "x = 10\n",
    "y = 10\n",
    "z = 15\n",
    "\n",
    "if x>=y:\n",
    "    abc1()\n",
    "elif y>x:\n",
    "    print(y+z)\n",
    "    print('ok!')\n",
    "else:\n",
    "    print('Nothing!')\n",
    "    abc1()"
   ]
  },
  {
   "cell_type": "code",
   "execution_count": 95,
   "id": "37561fb9",
   "metadata": {},
   "outputs": [
    {
     "name": "stdout",
     "output_type": "stream",
     "text": [
      "555555\n"
     ]
    }
   ],
   "source": [
    "x = 10\n",
    "y = 10\n",
    "z = 15\n",
    "\n",
    "if x>=y:\n",
    "    if x>5:\n",
    "        if x>=10:\n",
    "            print('555555')\n",
    "    else:\n",
    "        print('abc')\n",
    "\n",
    "elif y>x:\n",
    "    print(y+z)\n",
    "    print('ok!')\n",
    "    \n",
    "else:\n",
    "    print('Nothing!')\n"
   ]
  },
  {
   "cell_type": "markdown",
   "id": "cd4b4478",
   "metadata": {},
   "source": [
    "# For Loops in Python\n",
    "\n",
    "## Introduction\n",
    "A `for` loop in Python is used to iterate over a sequence (such as a list, tuple, dictionary, set, or string) and execute a block of code for each item in the sequence. It is one of the most common control flow statements in Python.\n",
    "\n",
    "## Syntax\n",
    "The basic syntax of a `for` loop is:\n",
    "```python\n",
    "for item in sequence:\n",
    "    # code block to execute\n"
   ]
  },
  {
   "cell_type": "code",
   "execution_count": 96,
   "id": "aaa3b55b",
   "metadata": {},
   "outputs": [
    {
     "name": "stdout",
     "output_type": "stream",
     "text": [
      "0\n",
      "1\n",
      "2\n",
      "3\n",
      "4\n",
      "5\n",
      "6\n",
      "7\n",
      "8\n",
      "9\n"
     ]
    }
   ],
   "source": [
    "for i in range(10): #n-1\n",
    "    print(i)"
   ]
  },
  {
   "cell_type": "code",
   "execution_count": 97,
   "id": "ad879ab1",
   "metadata": {},
   "outputs": [
    {
     "name": "stdout",
     "output_type": "stream",
     "text": [
      "0 hello\n",
      "1 hello\n",
      "2 hello\n",
      "3 hello\n",
      "4 hello\n",
      "5 hello\n",
      "6 hello\n",
      "7 hello\n",
      "8 hello\n",
      "9 hello\n"
     ]
    }
   ],
   "source": [
    "for i in range(10): #n-1\n",
    "    print(i, 'hello')"
   ]
  },
  {
   "cell_type": "code",
   "execution_count": 98,
   "id": "6eebf661",
   "metadata": {},
   "outputs": [
    {
     "name": "stdout",
     "output_type": "stream",
     "text": [
      "1\n",
      "9\n",
      "25\n",
      "49\n",
      "81\n"
     ]
    }
   ],
   "source": [
    "for i in range(1,10,2): #n-1\n",
    "    print(i*i)"
   ]
  },
  {
   "cell_type": "code",
   "execution_count": 99,
   "id": "b3afe46e",
   "metadata": {},
   "outputs": [
    {
     "name": "stdout",
     "output_type": "stream",
     "text": [
      "100\n",
      "81\n",
      "64\n",
      "49\n",
      "36\n",
      "25\n",
      "16\n",
      "9\n"
     ]
    }
   ],
   "source": [
    "for i in range(10,2,-1): #n-1\n",
    "    print(i*i)"
   ]
  },
  {
   "cell_type": "code",
   "execution_count": 100,
   "id": "181d67b1",
   "metadata": {},
   "outputs": [
    {
     "data": {
      "text/plain": [
       "['Rashedul', 'Alam', 'Shakil']"
      ]
     },
     "execution_count": 100,
     "metadata": {},
     "output_type": "execute_result"
    }
   ],
   "source": [
    "name.split()"
   ]
  },
  {
   "cell_type": "code",
   "execution_count": 101,
   "id": "dc2f0c05",
   "metadata": {},
   "outputs": [],
   "source": [
    "name=name.split()"
   ]
  },
  {
   "cell_type": "code",
   "execution_count": 102,
   "id": "86212837",
   "metadata": {},
   "outputs": [
    {
     "data": {
      "text/plain": [
       "['Rashedul', 'Alam', 'Shakil']"
      ]
     },
     "execution_count": 102,
     "metadata": {},
     "output_type": "execute_result"
    }
   ],
   "source": [
    "name"
   ]
  },
  {
   "cell_type": "code",
   "execution_count": 103,
   "id": "deabcf3e",
   "metadata": {},
   "outputs": [
    {
     "name": "stdout",
     "output_type": "stream",
     "text": [
      "Rashedul\n",
      "Alam\n",
      "Shakil\n"
     ]
    }
   ],
   "source": [
    "for i in name:\n",
    "    print(i)"
   ]
  },
  {
   "cell_type": "code",
   "execution_count": 104,
   "id": "960e9321",
   "metadata": {},
   "outputs": [
    {
     "data": {
      "text/plain": [
       "'Rashedul'"
      ]
     },
     "execution_count": 104,
     "metadata": {},
     "output_type": "execute_result"
    }
   ],
   "source": [
    "name[0]"
   ]
  },
  {
   "cell_type": "code",
   "execution_count": 105,
   "id": "bf27789a",
   "metadata": {},
   "outputs": [
    {
     "data": {
      "text/plain": [
       "'Alam'"
      ]
     },
     "execution_count": 105,
     "metadata": {},
     "output_type": "execute_result"
    }
   ],
   "source": [
    "name[1]"
   ]
  },
  {
   "cell_type": "markdown",
   "id": "c53fedbc",
   "metadata": {},
   "source": [
    "# While Loops in Python\n",
    "\n",
    "## Introduction\n",
    "A `while` loop in Python is used to repeatedly execute a block of code as long as a given condition is true. It is useful for situations where you do not know beforehand how many times you need to repeat a block of code.\n",
    "\n",
    "## Syntax\n",
    "The basic syntax of a `while` loop is:\n",
    "```python\n",
    "while condition:\n",
    "    # code block to execute\n"
   ]
  },
  {
   "cell_type": "code",
   "execution_count": 106,
   "id": "d4a05536",
   "metadata": {},
   "outputs": [
    {
     "name": "stdout",
     "output_type": "stream",
     "text": [
      "1\n",
      "9\n",
      "25\n",
      "49\n",
      "81\n"
     ]
    }
   ],
   "source": [
    "for i in range(1,10,2): #n-1\n",
    "    print(i*i)"
   ]
  },
  {
   "cell_type": "code",
   "execution_count": 107,
   "id": "50567ff1",
   "metadata": {},
   "outputs": [
    {
     "name": "stdout",
     "output_type": "stream",
     "text": [
      "0\n",
      "1\n",
      "4\n",
      "9\n",
      "16\n",
      "25\n",
      "36\n",
      "49\n",
      "64\n",
      "81\n"
     ]
    }
   ],
   "source": [
    "i = 0\n",
    "\n",
    "while i<10:\n",
    "    print(i*i)\n",
    "    i = i+1"
   ]
  },
  {
   "cell_type": "code",
   "execution_count": 108,
   "id": "6705ca6a",
   "metadata": {},
   "outputs": [
    {
     "name": "stdout",
     "output_type": "stream",
     "text": [
      "1\n",
      "4\n",
      "9\n",
      "16\n",
      "25\n",
      "36\n",
      "49\n",
      "64\n",
      "81\n",
      "100\n"
     ]
    }
   ],
   "source": [
    "i = 0\n",
    "\n",
    "while i<10:\n",
    "    i = i+1\n",
    "    print(i*i)\n"
   ]
  },
  {
   "cell_type": "code",
   "execution_count": null,
   "id": "df243c9b",
   "metadata": {},
   "outputs": [],
   "source": []
  },
  {
   "cell_type": "code",
   "execution_count": null,
   "id": "8fef6b75",
   "metadata": {},
   "outputs": [],
   "source": []
  },
  {
   "cell_type": "code",
   "execution_count": null,
   "id": "63811936",
   "metadata": {},
   "outputs": [],
   "source": []
  },
  {
   "cell_type": "code",
   "execution_count": null,
   "id": "1c087fbb",
   "metadata": {},
   "outputs": [],
   "source": []
  }
 ],
 "metadata": {
  "kernelspec": {
   "display_name": "Python 3 (ipykernel)",
   "language": "python",
   "name": "python3"
  },
  "language_info": {
   "codemirror_mode": {
    "name": "ipython",
    "version": 3
   },
   "file_extension": ".py",
   "mimetype": "text/x-python",
   "name": "python",
   "nbconvert_exporter": "python",
   "pygments_lexer": "ipython3",
   "version": "3.13.5"
  }
 },
 "nbformat": 4,
 "nbformat_minor": 5
}
