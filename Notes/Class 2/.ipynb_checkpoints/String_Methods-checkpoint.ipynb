{
 "cells": [
  {
   "cell_type": "markdown",
   "id": "6be98ba6-d1f0-475a-8f90-0896e521c9b8",
   "metadata": {},
   "source": [
    "<h1 align=\"center\">Python String Methods</h1>"
   ]
  },
  {
   "cell_type": "markdown",
   "id": "b989c3e0-dbdf-4a2b-ad5c-4a6835e91d35",
   "metadata": {},
   "source": [
    "| **Category / Type**        | **Methods**                                                                                                                                                             |\n",
    "| -------------------------- | ----------------------------------------------------------------------------------------------------------------------------------------------------------------------- |\n",
    "| **Case Conversion**        | `upper()`, `lower()`, `capitalize()`, `title()`, `swapcase()`, `casefold()`                                                                                             |\n",
    "| **Validation / Testing**   | `isalnum()`, `isalpha()`, `isascii()`, `isdecimal()`, `isdigit()`, `isnumeric()`, `islower()`, `isupper()`, `istitle()`, `isspace()`, `isidentifier()`, `isprintable()` |\n",
    "| **Trimming & Splitting**   | `strip()`, `lstrip()`, `rstrip()`, `split()`, `rsplit()`, `splitlines()`                                                                                                |\n",
    "| **Joining & Aligning**     | `join()`, `center()`, `ljust()`, `rjust()`, `zfill()`                                                                                                                   |\n",
    "| **Searching & Checking**   | `find()`, `rfind()`, `index()`, `rindex()`, `count()`, `startswith()`, `endswith()`                                                                                     |\n",
    "| **Replacing & Formatting** | `replace()`, `format()`, `format_map()`, `translate()`, `maketrans()`                                                                                                   |\n",
    "| **Partitioning**           | `partition()`, `rpartition()`                                                                                                                                           |\n",
    "| **Miscellaneous / Other**  | `expandtabs()`, `encode()`                                                                                                                                              |\n"
   ]
  },
  {
   "cell_type": "markdown",
   "id": "fd360953-e9f6-448b-84a8-cd7d531bdbf7",
   "metadata": {},
   "source": [
    "<h1 align=\"center\">Case Conversion</h1>"
   ]
  },
  {
   "cell_type": "markdown",
   "id": "f80158f6-9cb6-4e6b-9565-c04a4663a910",
   "metadata": {},
   "source": [
    "## .upper()\n",
    "- Converts all letters to uppercase.\n",
    "\n",
    "`In:`\n",
    "```python\n",
    "var = \"pYThon\"\n",
    "print(var.upper())\n",
    "```"
   ]
  },
  {
   "cell_type": "code",
   "execution_count": 3,
   "id": "547d4bf3-afd9-422c-8596-13a9a9ac305b",
   "metadata": {},
   "outputs": [
    {
     "name": "stdout",
     "output_type": "stream",
     "text": [
      "PYTHON\n"
     ]
    }
   ],
   "source": [
    "var = \"pYThon\"\n",
    "print(var.upper())"
   ]
  },
  {
   "cell_type": "markdown",
   "id": "1726fd83-247e-4a28-936d-3b3468648b2a",
   "metadata": {},
   "source": [
    "## .lower()\n",
    "- Converts all letters to lowercase.\n",
    "\n",
    "`In:`\n",
    "```python\n",
    "var = \"pyTHon\"\n",
    "print(var.lower())\n",
    "```"
   ]
  },
  {
   "cell_type": "code",
   "execution_count": 4,
   "id": "83d3d22b-6dd5-4d6a-8129-ef66642ee256",
   "metadata": {},
   "outputs": [
    {
     "name": "stdout",
     "output_type": "stream",
     "text": [
      "python\n"
     ]
    }
   ],
   "source": [
    "var = \"pyTHon\"\n",
    "print(var.lower())"
   ]
  },
  {
   "cell_type": "markdown",
   "id": "cf86ca65-4c83-478f-87e2-cf948e320439",
   "metadata": {},
   "source": [
    "## .capitalize()\n",
    "- Makes the first character uppercase and the rest lowercase.\n",
    "\n",
    "`In:`\n",
    "```python\n",
    "var = \"i love Python\"\n",
    "print(var.capitalize())\n",
    "```"
   ]
  },
  {
   "cell_type": "code",
   "execution_count": 5,
   "id": "6cf634a3-a8ed-4558-a27d-1e73c7a3ceeb",
   "metadata": {},
   "outputs": [
    {
     "name": "stdout",
     "output_type": "stream",
     "text": [
      "I love python\n"
     ]
    }
   ],
   "source": [
    "var = \"i love Python\"\n",
    "print(var.capitalize())"
   ]
  },
  {
   "cell_type": "markdown",
   "id": "d8f0a3ea-c342-43b6-9127-a1933564470e",
   "metadata": {},
   "source": [
    "## .title()\n",
    "- Capitalizes the first letter of every word.\n",
    "\n",
    "`In:`\n",
    "```python\n",
    "var = \"i love Python\"\n",
    "print(var.title())\n",
    "```"
   ]
  },
  {
   "cell_type": "code",
   "execution_count": 6,
   "id": "07b8dc84-da37-4087-88cf-bae5e6e7310e",
   "metadata": {},
   "outputs": [
    {
     "name": "stdout",
     "output_type": "stream",
     "text": [
      "I Love Python\n"
     ]
    }
   ],
   "source": []
  },
  {
   "cell_type": "markdown",
   "id": "0df2c203-7061-4dc1-b15e-9824e740dabc",
   "metadata": {},
   "source": [
    "## .casefold()\n",
    "- Converts to lowercase, more aggressive than lower() (handles foreign characters).\n",
    "\n",
    "`In:`\n",
    "```python\n",
    "var = \"Special (ß)\"\n",
    "print(var.casefold())\n",
    "```"
   ]
  },
  {
   "cell_type": "code",
   "execution_count": 16,
   "id": "65eea46f-f0c3-43bd-888e-7154bfb55f18",
   "metadata": {},
   "outputs": [
    {
     "name": "stdout",
     "output_type": "stream",
     "text": [
      "ss\n"
     ]
    }
   ],
   "source": [
    "var = \"ß\"\n",
    "print(var.casefold())"
   ]
  },
  {
   "cell_type": "markdown",
   "id": "2b56d6f6-4d29-447f-b0ca-cca2a02fbf80",
   "metadata": {},
   "source": [
    "## .swapcase()\n",
    "- Swaps uppercase to lowercase and vice versa.\n",
    "\n",
    "`In:`\n",
    "```python\n",
    "var = \"i lOve PythoN\"\n",
    "print(var.swapcase())\n",
    "```"
   ]
  },
  {
   "cell_type": "code",
   "execution_count": 11,
   "id": "74f731d3-1c08-4a1f-a28d-870db7f98f36",
   "metadata": {},
   "outputs": [
    {
     "name": "stdout",
     "output_type": "stream",
     "text": [
      "I LoVE pYTHOn\n"
     ]
    }
   ],
   "source": [
    "var = \"i lOve PythoN\"\n",
    "print(var.swapcase())"
   ]
  },
  {
   "cell_type": "code",
   "execution_count": null,
   "id": "609e8c79-f8be-4aa9-aa78-4b69ca10d500",
   "metadata": {},
   "outputs": [],
   "source": [
    "<h1 align=\"center\">Case Conversion</h1>"
   ]
  },
  {
   "cell_type": "code",
   "execution_count": null,
   "id": "c222d014-73cd-49e5-b26a-c5a46b0f71ce",
   "metadata": {},
   "outputs": [],
   "source": []
  }
 ],
 "metadata": {
  "kernelspec": {
   "display_name": "Python 3 (ipykernel)",
   "language": "python",
   "name": "python3"
  },
  "language_info": {
   "codemirror_mode": {
    "name": "ipython",
    "version": 3
   },
   "file_extension": ".py",
   "mimetype": "text/x-python",
   "name": "python",
   "nbconvert_exporter": "python",
   "pygments_lexer": "ipython3",
   "version": "3.13.5"
  }
 },
 "nbformat": 4,
 "nbformat_minor": 5
}
